{
  "nbformat": 4,
  "nbformat_minor": 0,
  "metadata": {
    "colab": {
      "name": "Scraping.ipynb",
      "provenance": [],
      "collapsed_sections": []
    },
    "kernelspec": {
      "name": "python3",
      "display_name": "Python 3"
    },
    "language_info": {
      "name": "python"
    }
  },
  "cells": [
    {
      "cell_type": "code",
      "metadata": {
        "colab": {
          "base_uri": "https://localhost:8080/"
        },
        "id": "PJJh2wcVdPux",
        "outputId": "a5e7c85c-621c-4a0a-db6c-c3d4de939ad0"
      },
      "source": [
        "!pip install wget"
      ],
      "execution_count": 3,
      "outputs": [
        {
          "output_type": "stream",
          "text": [
            "Requirement already satisfied: wget in /usr/local/lib/python3.7/dist-packages (3.2)\n"
          ],
          "name": "stdout"
        }
      ]
    },
    {
      "cell_type": "code",
      "metadata": {
        "id": "cj5UcoSoN4my"
      },
      "source": [
        "import pandas as pd\n",
        "from os.path import isfile, dirname, join\n",
        "from urllib.parse import urlparse\n",
        "\n",
        "import os\n",
        "from os import listdir\n",
        "from os.path import isfile, join, splitext, basename\n",
        "\n",
        "import requests\n",
        "import wget\n",
        "import csv"
      ],
      "execution_count": 1,
      "outputs": []
    },
    {
      "cell_type": "code",
      "metadata": {
        "id": "NlleO8mkaL1F",
        "colab": {
          "base_uri": "https://localhost:8080/"
        },
        "outputId": "15ce334e-ba09-4224-9f15-9d1fb6cb2910"
      },
      "source": [
        "from google.colab import drive\n",
        "drive.mount('/content/drive',force_remount=True )"
      ],
      "execution_count": 17,
      "outputs": [
        {
          "output_type": "stream",
          "text": [
            "Mounted at /content/drive\n"
          ],
          "name": "stdout"
        }
      ]
    },
    {
      "cell_type": "code",
      "metadata": {
        "colab": {
          "base_uri": "https://localhost:8080/"
        },
        "id": "mEKvRe5lnd6l",
        "outputId": "2749a948-4a3f-4783-b997-2fc0180df8b5"
      },
      "source": [
        "cd MyDrive/"
      ],
      "execution_count": 12,
      "outputs": [
        {
          "output_type": "stream",
          "text": [
            "[Errno 2] No such file or directory: 'MyDrive/'\n",
            "/content/drive/MyDrive\n"
          ],
          "name": "stdout"
        }
      ]
    },
    {
      "cell_type": "code",
      "metadata": {
        "colab": {
          "base_uri": "https://localhost:8080/"
        },
        "id": "OJSr3Ek-nwD5",
        "outputId": "4492c794-eb58-40e6-d1a1-586385e50453"
      },
      "source": [
        "cd content"
      ],
      "execution_count": 19,
      "outputs": [
        {
          "output_type": "stream",
          "text": [
            "/content\n"
          ],
          "name": "stdout"
        }
      ]
    },
    {
      "cell_type": "code",
      "metadata": {
        "colab": {
          "base_uri": "https://localhost:8080/"
        },
        "id": "xAXiAGT6n5zg",
        "outputId": "77498b9b-95f6-493d-84c0-0322bea861c6"
      },
      "source": [
        "cd drive"
      ],
      "execution_count": 21,
      "outputs": [
        {
          "output_type": "stream",
          "text": [
            "/content/drive\n"
          ],
          "name": "stdout"
        }
      ]
    },
    {
      "cell_type": "code",
      "metadata": {
        "id": "vTYffJvRalpz"
      },
      "source": [
        "import os\n",
        "import pandas as pd\n",
        "from os.path import isfile, dirname, join\n",
        "\n",
        "my_path = \"MyDrive/raw_data/yoga_dataset_links\"\n",
        "\n",
        "from os import listdir\n",
        "from os.path import isfile, join\n",
        "onlyfiles = [f\"{my_path}/{f}\" for f in listdir(my_path) if isfile(join(my_path, f))]"
      ],
      "execution_count": 25,
      "outputs": []
    },
    {
      "cell_type": "code",
      "metadata": {
        "colab": {
          "base_uri": "https://localhost:8080/"
        },
        "id": "O30oNTgdoNuP",
        "outputId": "d0a42557-0015-4ef2-e469-2edbf66cacf5"
      },
      "source": [
        "for file in onlyfiles:\n",
        "  print(file)"
      ],
      "execution_count": 26,
      "outputs": [
        {
          "output_type": "stream",
          "text": [
            "MyDrive/raw_data/yoga_dataset_links/Yogic_sleep_pose.txt\n",
            "MyDrive/raw_data/yoga_dataset_links/Sitting pose 1 (normal).txt\n",
            "MyDrive/raw_data/yoga_dataset_links/Split pose.txt\n",
            "MyDrive/raw_data/yoga_dataset_links/Feathered_Peacock_Pose_or_Pincha_Mayurasana_.txt\n",
            "MyDrive/raw_data/yoga_dataset_links/Supported_Shoulderstand_pose_or_Salamba_Sarvangasana_.txt\n",
            "MyDrive/raw_data/yoga_dataset_links/Virasana_or_Vajrasana.txt\n",
            "MyDrive/raw_data/yoga_dataset_links/viparita_virabhadrasana_or_reverse_warrior_pose.txt\n",
            "MyDrive/raw_data/yoga_dataset_links/Extended_Revolved_Triangle_Pose_or_Utthita_Trikonasana_.txt\n",
            "MyDrive/raw_data/yoga_dataset_links/Warrior_II_Pose_or_Virabhadrasana_II_.txt\n",
            "MyDrive/raw_data/yoga_dataset_links/Standing_Split_pose_or_Urdhva_Prasarita_Eka_Padasana_.txt\n",
            "MyDrive/raw_data/yoga_dataset_links/Wind_Relieving_pose_or_Pawanmuktasana.txt\n",
            "MyDrive/raw_data/yoga_dataset_links/Revolved_Head-to-Knee_Pose_or_Parivrtta_Janu_Sirsasana_.txt\n",
            "MyDrive/raw_data/yoga_dataset_links/Scale_Pose_or_Tolasana_.txt\n",
            "MyDrive/raw_data/yoga_dataset_links/Crane_(Crow)_Pose_or_Bakasana_.txt\n",
            "MyDrive/raw_data/yoga_dataset_links/Upward_Facing_Two-Foot_Staff_Pose_or_Dwi_Pada_Viparita_Dandasana_.txt\n",
            "MyDrive/raw_data/yoga_dataset_links/Frog_Pose_or_Bhekasana.txt\n",
            "MyDrive/raw_data/yoga_dataset_links/Tortoise_Pose.txt\n",
            "MyDrive/raw_data/yoga_dataset_links/Head-to-Knee_Forward_Bend_pose_or_Janu_Sirsasana_.txt\n",
            "MyDrive/raw_data/yoga_dataset_links/Standing_Forward_Bend_pose_or_Uttanasana_.txt\n",
            "MyDrive/raw_data/yoga_dataset_links/Supta_Baddha_Konasana_.txt\n",
            "MyDrive/raw_data/yoga_dataset_links/Side_Crane_(Crow)_Pose_or_Parsva_Bakasana_.txt\n",
            "MyDrive/raw_data/yoga_dataset_links/Cat_Cow_Pose_or_Marjaryasana_.txt\n",
            "MyDrive/raw_data/yoga_dataset_links/Supta_Virasana_Vajrasana.txt\n",
            "MyDrive/raw_data/yoga_dataset_links/Warrior_I_Pose_or_Virabhadrasana_I_.txt\n",
            "MyDrive/raw_data/yoga_dataset_links/Cobra_Pose_or_Bhujangasana_.txt\n",
            "MyDrive/raw_data/yoga_dataset_links/Tree_Pose_or_Vrksasana_.txt\n",
            "MyDrive/raw_data/yoga_dataset_links/Upward_Bow_(Wheel)_Pose_or_Urdhva_Dhanurasana_.txt\n",
            "MyDrive/raw_data/yoga_dataset_links/Extended_Revolved_Side_Angle_Pose_or_Utthita_Parsvakonasana_.txt\n",
            "MyDrive/raw_data/yoga_dataset_links/Heron_Pose_or_Krounchasana_.txt\n",
            "MyDrive/raw_data/yoga_dataset_links/Warrior_III_Pose_or_Virabhadrasana_III_.txt\n",
            "MyDrive/raw_data/yoga_dataset_links/Wide-Legged_Forward_Bend_pose_or_Prasarita_Padottanasana_.txt\n",
            "MyDrive/raw_data/yoga_dataset_links/Half_Lord_of_the_Fishes_Pose_or_Ardha_Matsyendrasana_.txt\n",
            "MyDrive/raw_data/yoga_dataset_links/Cockerel_Pose.txt\n",
            "MyDrive/raw_data/yoga_dataset_links/Wild_Thing_pose_or_Camatkarasana_.txt\n",
            "MyDrive/raw_data/yoga_dataset_links/Upward_Plank_Pose_or_Purvottanasana_.txt\n",
            "MyDrive/raw_data/yoga_dataset_links/Scorpion_pose_or_vrischikasana.txt\n",
            "MyDrive/raw_data/yoga_dataset_links/Legs-Up-the-Wall_Pose_or_Viparita_Karani_.txt\n",
            "MyDrive/raw_data/yoga_dataset_links/Low_Lunge_pose_or_Anjaneyasana_.txt\n",
            "MyDrive/raw_data/yoga_dataset_links/Boat_Pose_or_Paripurna_Navasana_.txt\n",
            "MyDrive/raw_data/yoga_dataset_links/Child_Pose_or_Balasana_.txt\n",
            "MyDrive/raw_data/yoga_dataset_links/Chair_Pose_or_Utkatasana_.txt\n",
            "MyDrive/raw_data/yoga_dataset_links/Staff_Pose_or_Dandasana_.txt\n",
            "MyDrive/raw_data/yoga_dataset_links/Four-Limbed_Staff_Pose_or_Chaturanga_Dandasana_.txt\n",
            "MyDrive/raw_data/yoga_dataset_links/Handstand_pose_or_Adho_Mukha_Vrksasana_.txt\n",
            "MyDrive/raw_data/yoga_dataset_links/Noose_Pose_or_Pasasana_.txt\n",
            "MyDrive/raw_data/yoga_dataset_links/Reclining_Hand-to-Big-Toe_Pose_or_Supta_Padangusthasana_.txt\n",
            "MyDrive/raw_data/yoga_dataset_links/Rajakapotasana.txt\n",
            "MyDrive/raw_data/yoga_dataset_links/Supported_Headstand_pose_or_Salamba_Sirsasana_.txt\n",
            "MyDrive/raw_data/yoga_dataset_links/Side_Plank_Pose_or_Vasisthasana_.txt\n",
            "MyDrive/raw_data/yoga_dataset_links/Peacock_Pose_or_Mayurasana_.txt\n",
            "MyDrive/raw_data/yoga_dataset_links/Corpse_Pose_or_Savasana_.txt\n",
            "MyDrive/raw_data/yoga_dataset_links/Fish_Pose_or_Matsyasana_.txt\n",
            "MyDrive/raw_data/yoga_dataset_links/Shoulder-Pressing_Pose_or_Bhujapidasana_.txt\n",
            "MyDrive/raw_data/yoga_dataset_links/Akarna_Dhanurasana.txt\n",
            "MyDrive/raw_data/yoga_dataset_links/Gate_Pose_or_Parighasana_.txt\n",
            "MyDrive/raw_data/yoga_dataset_links/Firefly_Pose_or_Tittibhasana_.txt\n",
            "MyDrive/raw_data/yoga_dataset_links/Bridge_Pose_or_Setu_Bandha_Sarvangasana_.txt\n",
            "MyDrive/raw_data/yoga_dataset_links/Plank_Pose_or_Kumbhakasana_.txt\n",
            "MyDrive/raw_data/yoga_dataset_links/Camel_Pose_or_Ustrasana_.txt\n",
            "MyDrive/raw_data/yoga_dataset_links/Seated_Forward_Bend_pose_or_Paschimottanasana_.txt\n",
            "MyDrive/raw_data/yoga_dataset_links/Half_Moon_Pose_or_Ardha_Chandrasana_.txt\n",
            "MyDrive/raw_data/yoga_dataset_links/Cow_Face_Pose_or_Gomukhasana_.txt\n",
            "MyDrive/raw_data/yoga_dataset_links/Eight-Angle_Pose_or_Astavakrasana_.txt\n",
            "MyDrive/raw_data/yoga_dataset_links/Downward-Facing_Dog_pose_or_Adho_Mukha_Svanasana_.txt\n",
            "MyDrive/raw_data/yoga_dataset_links/Bound_Angle_Pose_or_Baddha_Konasana_.txt\n",
            "MyDrive/raw_data/yoga_dataset_links/Dolphin_Plank_Pose_or_Makara_Adho_Mukha_Svanasana_.txt\n",
            "MyDrive/raw_data/yoga_dataset_links/Bharadvaja's_Twist_pose_or_Bharadvajasana_I_.txt\n",
            "MyDrive/raw_data/yoga_dataset_links/Wide-Angle_Seated_Forward_Bend_pose_or_Upavistha_Konasana_.txt\n",
            "MyDrive/raw_data/yoga_dataset_links/Plow_Pose_or_Halasana_.txt\n",
            "MyDrive/raw_data/yoga_dataset_links/Extended_Puppy_Pose_or_Uttana_Shishosana_.txt\n",
            "MyDrive/raw_data/yoga_dataset_links/Dolphin_Pose_or_Ardha_Pincha_Mayurasana_.txt\n",
            "MyDrive/raw_data/yoga_dataset_links/Pose_Dedicated_to_the_Sage_Koundinya_or_Eka_Pada_Koundinyanasana_I_and_II.txt\n",
            "MyDrive/raw_data/yoga_dataset_links/Bow_Pose_or_Dhanurasana_.txt\n",
            "MyDrive/raw_data/yoga_dataset_links/Garland_Pose_or_Malasana_.txt\n",
            "MyDrive/raw_data/yoga_dataset_links/Lord_of_the_Dance_Pose_or_Natarajasana_.txt\n",
            "MyDrive/raw_data/yoga_dataset_links/Locust_Pose_or_Salabhasana_.txt\n",
            "MyDrive/raw_data/yoga_dataset_links/Standing_big_toe_hold_pose_or_Utthita_Padangusthasana.txt\n",
            "MyDrive/raw_data/yoga_dataset_links/Eagle_Pose_or_Garudasana_.txt\n",
            "MyDrive/raw_data/yoga_dataset_links/Pigeon_Pose_or_Kapotasana_.txt\n",
            "MyDrive/raw_data/yoga_dataset_links/Happy_Baby_Pose_or_Ananda_Balasana_.txt\n",
            "MyDrive/raw_data/yoga_dataset_links/Intense_Side_Stretch_Pose_or_Parsvottanasana_.txt\n",
            "MyDrive/raw_data/yoga_dataset_links/Side-Reclining_Leg_Lift_pose_or_Anantasana_.txt\n"
          ],
          "name": "stdout"
        }
      ]
    },
    {
      "cell_type": "code",
      "metadata": {
        "colab": {
          "base_uri": "https://localhost:8080/"
        },
        "id": "i256_fXONbfG",
        "outputId": "273e7453-0cde-40bf-81ee-28616cf50f04"
      },
      "source": [
        "domains = {}\n",
        "for file in onlyfiles:\n",
        "  if os.path.splitext(file)[1] != '.ini':\n",
        "    print(f\"inspecting {file}\")\n",
        "    df = pd.read_csv(file, delimiter = \"\\t\", header=None)\n",
        "    for link in df[1]:\n",
        "        domain = urlparse(link).netloc.split('.')[-2]\n",
        "        if not domain in domains.keys():\n",
        "            domains[domain] = link"
      ],
      "execution_count": 27,
      "outputs": [
        {
          "output_type": "stream",
          "text": [
            "inspecting MyDrive/raw_data/yoga_dataset_links/Yogic_sleep_pose.txt\n",
            "inspecting MyDrive/raw_data/yoga_dataset_links/Sitting pose 1 (normal).txt\n",
            "inspecting MyDrive/raw_data/yoga_dataset_links/Split pose.txt\n",
            "inspecting MyDrive/raw_data/yoga_dataset_links/Feathered_Peacock_Pose_or_Pincha_Mayurasana_.txt\n",
            "inspecting MyDrive/raw_data/yoga_dataset_links/Supported_Shoulderstand_pose_or_Salamba_Sarvangasana_.txt\n",
            "inspecting MyDrive/raw_data/yoga_dataset_links/Virasana_or_Vajrasana.txt\n",
            "inspecting MyDrive/raw_data/yoga_dataset_links/viparita_virabhadrasana_or_reverse_warrior_pose.txt\n",
            "inspecting MyDrive/raw_data/yoga_dataset_links/Extended_Revolved_Triangle_Pose_or_Utthita_Trikonasana_.txt\n",
            "inspecting MyDrive/raw_data/yoga_dataset_links/Warrior_II_Pose_or_Virabhadrasana_II_.txt\n",
            "inspecting MyDrive/raw_data/yoga_dataset_links/Standing_Split_pose_or_Urdhva_Prasarita_Eka_Padasana_.txt\n",
            "inspecting MyDrive/raw_data/yoga_dataset_links/Wind_Relieving_pose_or_Pawanmuktasana.txt\n",
            "inspecting MyDrive/raw_data/yoga_dataset_links/Revolved_Head-to-Knee_Pose_or_Parivrtta_Janu_Sirsasana_.txt\n",
            "inspecting MyDrive/raw_data/yoga_dataset_links/Scale_Pose_or_Tolasana_.txt\n",
            "inspecting MyDrive/raw_data/yoga_dataset_links/Crane_(Crow)_Pose_or_Bakasana_.txt\n",
            "inspecting MyDrive/raw_data/yoga_dataset_links/Upward_Facing_Two-Foot_Staff_Pose_or_Dwi_Pada_Viparita_Dandasana_.txt\n",
            "inspecting MyDrive/raw_data/yoga_dataset_links/Frog_Pose_or_Bhekasana.txt\n",
            "inspecting MyDrive/raw_data/yoga_dataset_links/Tortoise_Pose.txt\n",
            "inspecting MyDrive/raw_data/yoga_dataset_links/Head-to-Knee_Forward_Bend_pose_or_Janu_Sirsasana_.txt\n",
            "inspecting MyDrive/raw_data/yoga_dataset_links/Standing_Forward_Bend_pose_or_Uttanasana_.txt\n",
            "inspecting MyDrive/raw_data/yoga_dataset_links/Supta_Baddha_Konasana_.txt\n",
            "inspecting MyDrive/raw_data/yoga_dataset_links/Side_Crane_(Crow)_Pose_or_Parsva_Bakasana_.txt\n",
            "inspecting MyDrive/raw_data/yoga_dataset_links/Cat_Cow_Pose_or_Marjaryasana_.txt\n",
            "inspecting MyDrive/raw_data/yoga_dataset_links/Supta_Virasana_Vajrasana.txt\n",
            "inspecting MyDrive/raw_data/yoga_dataset_links/Warrior_I_Pose_or_Virabhadrasana_I_.txt\n",
            "inspecting MyDrive/raw_data/yoga_dataset_links/Cobra_Pose_or_Bhujangasana_.txt\n",
            "inspecting MyDrive/raw_data/yoga_dataset_links/Tree_Pose_or_Vrksasana_.txt\n",
            "inspecting MyDrive/raw_data/yoga_dataset_links/Upward_Bow_(Wheel)_Pose_or_Urdhva_Dhanurasana_.txt\n",
            "inspecting MyDrive/raw_data/yoga_dataset_links/Extended_Revolved_Side_Angle_Pose_or_Utthita_Parsvakonasana_.txt\n",
            "inspecting MyDrive/raw_data/yoga_dataset_links/Heron_Pose_or_Krounchasana_.txt\n",
            "inspecting MyDrive/raw_data/yoga_dataset_links/Warrior_III_Pose_or_Virabhadrasana_III_.txt\n",
            "inspecting MyDrive/raw_data/yoga_dataset_links/Wide-Legged_Forward_Bend_pose_or_Prasarita_Padottanasana_.txt\n",
            "inspecting MyDrive/raw_data/yoga_dataset_links/Half_Lord_of_the_Fishes_Pose_or_Ardha_Matsyendrasana_.txt\n",
            "inspecting MyDrive/raw_data/yoga_dataset_links/Cockerel_Pose.txt\n",
            "inspecting MyDrive/raw_data/yoga_dataset_links/Wild_Thing_pose_or_Camatkarasana_.txt\n",
            "inspecting MyDrive/raw_data/yoga_dataset_links/Upward_Plank_Pose_or_Purvottanasana_.txt\n",
            "inspecting MyDrive/raw_data/yoga_dataset_links/Scorpion_pose_or_vrischikasana.txt\n",
            "inspecting MyDrive/raw_data/yoga_dataset_links/Legs-Up-the-Wall_Pose_or_Viparita_Karani_.txt\n",
            "inspecting MyDrive/raw_data/yoga_dataset_links/Low_Lunge_pose_or_Anjaneyasana_.txt\n",
            "inspecting MyDrive/raw_data/yoga_dataset_links/Boat_Pose_or_Paripurna_Navasana_.txt\n",
            "inspecting MyDrive/raw_data/yoga_dataset_links/Child_Pose_or_Balasana_.txt\n",
            "inspecting MyDrive/raw_data/yoga_dataset_links/Chair_Pose_or_Utkatasana_.txt\n",
            "inspecting MyDrive/raw_data/yoga_dataset_links/Staff_Pose_or_Dandasana_.txt\n",
            "inspecting MyDrive/raw_data/yoga_dataset_links/Four-Limbed_Staff_Pose_or_Chaturanga_Dandasana_.txt\n",
            "inspecting MyDrive/raw_data/yoga_dataset_links/Handstand_pose_or_Adho_Mukha_Vrksasana_.txt\n",
            "inspecting MyDrive/raw_data/yoga_dataset_links/Noose_Pose_or_Pasasana_.txt\n",
            "inspecting MyDrive/raw_data/yoga_dataset_links/Reclining_Hand-to-Big-Toe_Pose_or_Supta_Padangusthasana_.txt\n",
            "inspecting MyDrive/raw_data/yoga_dataset_links/Rajakapotasana.txt\n",
            "inspecting MyDrive/raw_data/yoga_dataset_links/Supported_Headstand_pose_or_Salamba_Sirsasana_.txt\n",
            "inspecting MyDrive/raw_data/yoga_dataset_links/Side_Plank_Pose_or_Vasisthasana_.txt\n",
            "inspecting MyDrive/raw_data/yoga_dataset_links/Peacock_Pose_or_Mayurasana_.txt\n",
            "inspecting MyDrive/raw_data/yoga_dataset_links/Corpse_Pose_or_Savasana_.txt\n",
            "inspecting MyDrive/raw_data/yoga_dataset_links/Fish_Pose_or_Matsyasana_.txt\n",
            "inspecting MyDrive/raw_data/yoga_dataset_links/Shoulder-Pressing_Pose_or_Bhujapidasana_.txt\n",
            "inspecting MyDrive/raw_data/yoga_dataset_links/Akarna_Dhanurasana.txt\n",
            "inspecting MyDrive/raw_data/yoga_dataset_links/Gate_Pose_or_Parighasana_.txt\n",
            "inspecting MyDrive/raw_data/yoga_dataset_links/Firefly_Pose_or_Tittibhasana_.txt\n",
            "inspecting MyDrive/raw_data/yoga_dataset_links/Bridge_Pose_or_Setu_Bandha_Sarvangasana_.txt\n",
            "inspecting MyDrive/raw_data/yoga_dataset_links/Plank_Pose_or_Kumbhakasana_.txt\n",
            "inspecting MyDrive/raw_data/yoga_dataset_links/Camel_Pose_or_Ustrasana_.txt\n",
            "inspecting MyDrive/raw_data/yoga_dataset_links/Seated_Forward_Bend_pose_or_Paschimottanasana_.txt\n",
            "inspecting MyDrive/raw_data/yoga_dataset_links/Half_Moon_Pose_or_Ardha_Chandrasana_.txt\n",
            "inspecting MyDrive/raw_data/yoga_dataset_links/Cow_Face_Pose_or_Gomukhasana_.txt\n",
            "inspecting MyDrive/raw_data/yoga_dataset_links/Eight-Angle_Pose_or_Astavakrasana_.txt\n",
            "inspecting MyDrive/raw_data/yoga_dataset_links/Downward-Facing_Dog_pose_or_Adho_Mukha_Svanasana_.txt\n",
            "inspecting MyDrive/raw_data/yoga_dataset_links/Bound_Angle_Pose_or_Baddha_Konasana_.txt\n",
            "inspecting MyDrive/raw_data/yoga_dataset_links/Dolphin_Plank_Pose_or_Makara_Adho_Mukha_Svanasana_.txt\n",
            "inspecting MyDrive/raw_data/yoga_dataset_links/Bharadvaja's_Twist_pose_or_Bharadvajasana_I_.txt\n",
            "inspecting MyDrive/raw_data/yoga_dataset_links/Wide-Angle_Seated_Forward_Bend_pose_or_Upavistha_Konasana_.txt\n",
            "inspecting MyDrive/raw_data/yoga_dataset_links/Plow_Pose_or_Halasana_.txt\n",
            "inspecting MyDrive/raw_data/yoga_dataset_links/Extended_Puppy_Pose_or_Uttana_Shishosana_.txt\n",
            "inspecting MyDrive/raw_data/yoga_dataset_links/Dolphin_Pose_or_Ardha_Pincha_Mayurasana_.txt\n",
            "inspecting MyDrive/raw_data/yoga_dataset_links/Pose_Dedicated_to_the_Sage_Koundinya_or_Eka_Pada_Koundinyanasana_I_and_II.txt\n",
            "inspecting MyDrive/raw_data/yoga_dataset_links/Bow_Pose_or_Dhanurasana_.txt\n",
            "inspecting MyDrive/raw_data/yoga_dataset_links/Garland_Pose_or_Malasana_.txt\n",
            "inspecting MyDrive/raw_data/yoga_dataset_links/Lord_of_the_Dance_Pose_or_Natarajasana_.txt\n",
            "inspecting MyDrive/raw_data/yoga_dataset_links/Locust_Pose_or_Salabhasana_.txt\n",
            "inspecting MyDrive/raw_data/yoga_dataset_links/Standing_big_toe_hold_pose_or_Utthita_Padangusthasana.txt\n",
            "inspecting MyDrive/raw_data/yoga_dataset_links/Eagle_Pose_or_Garudasana_.txt\n",
            "inspecting MyDrive/raw_data/yoga_dataset_links/Pigeon_Pose_or_Kapotasana_.txt\n",
            "inspecting MyDrive/raw_data/yoga_dataset_links/Happy_Baby_Pose_or_Ananda_Balasana_.txt\n",
            "inspecting MyDrive/raw_data/yoga_dataset_links/Intense_Side_Stretch_Pose_or_Parsvottanasana_.txt\n",
            "inspecting MyDrive/raw_data/yoga_dataset_links/Side-Reclining_Leg_Lift_pose_or_Anantasana_.txt\n"
          ],
          "name": "stdout"
        }
      ]
    },
    {
      "cell_type": "code",
      "metadata": {
        "id": "UHb-8m6BXzWo"
      },
      "source": [
        "### Create directories"
      ],
      "execution_count": null,
      "outputs": []
    },
    {
      "cell_type": "code",
      "metadata": {
        "id": "N6-z3LQlWbXr"
      },
      "source": [
        "dataset_root_path = \"MyDrive/raw_data/images\"\n",
        "if not os.path.exists(dataset_root_path):\n",
        "    os.makedirs(dataset_root_path)\n",
        "\n",
        "for file in onlyfiles:\n",
        "  file_no_path = basename(file)\n",
        "  filename, fileextension = splitext(file_no_path)\n",
        "  if fileextension != '.ini':\n",
        "    dataset_pose_path = dataset_root_path + \"/\" + filename\n",
        "    if not os.path.exists(dataset_pose_path):\n",
        "      os.makedirs(dataset_pose_path)\n",
        "    "
      ],
      "execution_count": 28,
      "outputs": []
    },
    {
      "cell_type": "code",
      "metadata": {
        "id": "lAYTAGvlWan4"
      },
      "source": [
        "### iterate in poses to retrieve images"
      ],
      "execution_count": null,
      "outputs": []
    },
    {
      "cell_type": "code",
      "metadata": {
        "id": "TDKqbmR3WZlU"
      },
      "source": [
        "path_to_file_success = \"MyDrive/raw_data/success.csv\"\n",
        "path_to_file_failed =  \"MyDrive/raw_data/failure.csv\"\n",
        "\n",
        "#file_success_csv = open(path_to_file_success, \"a\")\n",
        "#file_failed_csv = open(path_to_file_failed, \"a\")\n",
        "\n",
        "#writer_success = csv.writer(file_success_csv)\n",
        "#writer_failed = csv.writer(file_failed_csv)\n",
        "\n",
        "for file in onlyfiles:\n",
        "\n",
        "  file_no_path = basename(file)\n",
        "  filename, fileextension = splitext(file_no_path)\n",
        "  if fileextension != '.ini':\n",
        "    df = pd.read_csv(file, delimiter = \"\\t\", header=None)\n",
        "    dataset_pose_path = dataset_root_path + \"/\" + filename\n",
        "    for link in df[1]:\n",
        "      img = basename(link)\n",
        "      to_file = dataset_pose_path + \"/\" + img\n",
        "      try:\n",
        "        req = requests.get(link,timeout=2)\n",
        "        if req.status_code == 200:\n",
        "          with open(to_file, 'wb') as f:\n",
        "            f.write(req.content)\n",
        "          with open(path_to_file_success, \"a\") as file_success_csv:\n",
        "            file_success_csv.write(link)\n",
        "        else:\n",
        "          with open(path_to_file_failed, \"a\") as file_failed_csv:\n",
        "            file_failed_csv.write(link)\n",
        "      except:\n",
        "        with open(path_to_file_failed, \"a\") as file_failed_csv:\n",
        "            file_failed_csv.write(link)\n",
        "\n"
      ],
      "execution_count": null,
      "outputs": []
    },
    {
      "cell_type": "code",
      "metadata": {
        "id": "kgsEpBKUQVUM"
      },
      "source": [
        "for i in range(0,928):\n",
        "    try:\n",
        "        df['Response'][i] = requests.get[1][i], ).status_code\n",
        "    except:\n",
        "        df['Response'][i] = 'problem'"
      ],
      "execution_count": null,
      "outputs": []
    }
  ]
}