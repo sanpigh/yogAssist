{
  "nbformat": 4,
  "nbformat_minor": 0,
  "metadata": {
    "colab": {
      "name": "[keypoints] scoring-train-dataset.ipynb",
      "provenance": [],
      "collapsed_sections": []
    },
    "kernelspec": {
      "display_name": "Python 3",
      "name": "python3"
    },
    "language_info": {
      "name": "python"
    },
    "accelerator": "GPU",
    "widgets": {
      "application/vnd.jupyter.widget-state+json": {
        "c572d6d0fc2f43e1bab7bffefb0e3507": {
          "model_module": "@jupyter-widgets/controls",
          "model_name": "HBoxModel",
          "state": {
            "_view_name": "HBoxView",
            "_dom_classes": [],
            "_model_name": "HBoxModel",
            "_view_module": "@jupyter-widgets/controls",
            "_model_module_version": "1.5.0",
            "_view_count": null,
            "_view_module_version": "1.5.0",
            "box_style": "",
            "layout": "IPY_MODEL_770e5db2af47444190576ffaf31e8f28",
            "_model_module": "@jupyter-widgets/controls",
            "children": [
              "IPY_MODEL_5020ac94e8964f50868ce16c81ebb93b",
              "IPY_MODEL_e330e880fd114ec09d873289ac97215e"
            ]
          }
        },
        "770e5db2af47444190576ffaf31e8f28": {
          "model_module": "@jupyter-widgets/base",
          "model_name": "LayoutModel",
          "state": {
            "_view_name": "LayoutView",
            "grid_template_rows": null,
            "right": null,
            "justify_content": null,
            "_view_module": "@jupyter-widgets/base",
            "overflow": null,
            "_model_module_version": "1.2.0",
            "_view_count": null,
            "flex_flow": null,
            "width": null,
            "min_width": null,
            "border": null,
            "align_items": null,
            "bottom": null,
            "_model_module": "@jupyter-widgets/base",
            "top": null,
            "grid_column": null,
            "overflow_y": null,
            "overflow_x": null,
            "grid_auto_flow": null,
            "grid_area": null,
            "grid_template_columns": null,
            "flex": null,
            "_model_name": "LayoutModel",
            "justify_items": null,
            "grid_row": null,
            "max_height": null,
            "align_content": null,
            "visibility": null,
            "align_self": null,
            "height": null,
            "min_height": null,
            "padding": null,
            "grid_auto_rows": null,
            "grid_gap": null,
            "max_width": null,
            "order": null,
            "_view_module_version": "1.2.0",
            "grid_template_areas": null,
            "object_position": null,
            "object_fit": null,
            "grid_auto_columns": null,
            "margin": null,
            "display": null,
            "left": null
          }
        },
        "5020ac94e8964f50868ce16c81ebb93b": {
          "model_module": "@jupyter-widgets/controls",
          "model_name": "FloatProgressModel",
          "state": {
            "_view_name": "ProgressView",
            "style": "IPY_MODEL_7ccfb58b03c8460baa523ddb8da6971d",
            "_dom_classes": [],
            "description": "  0%",
            "_model_name": "FloatProgressModel",
            "bar_style": "",
            "max": 376,
            "_view_module": "@jupyter-widgets/controls",
            "_model_module_version": "1.5.0",
            "value": 1,
            "_view_count": null,
            "_view_module_version": "1.5.0",
            "orientation": "horizontal",
            "min": 0,
            "description_tooltip": null,
            "_model_module": "@jupyter-widgets/controls",
            "layout": "IPY_MODEL_6e98d716858e48aa97383089f5121948"
          }
        },
        "e330e880fd114ec09d873289ac97215e": {
          "model_module": "@jupyter-widgets/controls",
          "model_name": "HTMLModel",
          "state": {
            "_view_name": "HTMLView",
            "style": "IPY_MODEL_d360bd1433994337b9772e5fcb5093cf",
            "_dom_classes": [],
            "description": "",
            "_model_name": "HTMLModel",
            "placeholder": "​",
            "_view_module": "@jupyter-widgets/controls",
            "_model_module_version": "1.5.0",
            "value": " 1/376 [00:07&lt;44:32,  7.13s/it]",
            "_view_count": null,
            "_view_module_version": "1.5.0",
            "description_tooltip": null,
            "_model_module": "@jupyter-widgets/controls",
            "layout": "IPY_MODEL_7c7dbbbb15914fe58ad06fa27c917d20"
          }
        },
        "7ccfb58b03c8460baa523ddb8da6971d": {
          "model_module": "@jupyter-widgets/controls",
          "model_name": "ProgressStyleModel",
          "state": {
            "_view_name": "StyleView",
            "_model_name": "ProgressStyleModel",
            "description_width": "initial",
            "_view_module": "@jupyter-widgets/base",
            "_model_module_version": "1.5.0",
            "_view_count": null,
            "_view_module_version": "1.2.0",
            "bar_color": null,
            "_model_module": "@jupyter-widgets/controls"
          }
        },
        "6e98d716858e48aa97383089f5121948": {
          "model_module": "@jupyter-widgets/base",
          "model_name": "LayoutModel",
          "state": {
            "_view_name": "LayoutView",
            "grid_template_rows": null,
            "right": null,
            "justify_content": null,
            "_view_module": "@jupyter-widgets/base",
            "overflow": null,
            "_model_module_version": "1.2.0",
            "_view_count": null,
            "flex_flow": null,
            "width": null,
            "min_width": null,
            "border": null,
            "align_items": null,
            "bottom": null,
            "_model_module": "@jupyter-widgets/base",
            "top": null,
            "grid_column": null,
            "overflow_y": null,
            "overflow_x": null,
            "grid_auto_flow": null,
            "grid_area": null,
            "grid_template_columns": null,
            "flex": null,
            "_model_name": "LayoutModel",
            "justify_items": null,
            "grid_row": null,
            "max_height": null,
            "align_content": null,
            "visibility": null,
            "align_self": null,
            "height": null,
            "min_height": null,
            "padding": null,
            "grid_auto_rows": null,
            "grid_gap": null,
            "max_width": null,
            "order": null,
            "_view_module_version": "1.2.0",
            "grid_template_areas": null,
            "object_position": null,
            "object_fit": null,
            "grid_auto_columns": null,
            "margin": null,
            "display": null,
            "left": null
          }
        },
        "d360bd1433994337b9772e5fcb5093cf": {
          "model_module": "@jupyter-widgets/controls",
          "model_name": "DescriptionStyleModel",
          "state": {
            "_view_name": "StyleView",
            "_model_name": "DescriptionStyleModel",
            "description_width": "",
            "_view_module": "@jupyter-widgets/base",
            "_model_module_version": "1.5.0",
            "_view_count": null,
            "_view_module_version": "1.2.0",
            "_model_module": "@jupyter-widgets/controls"
          }
        },
        "7c7dbbbb15914fe58ad06fa27c917d20": {
          "model_module": "@jupyter-widgets/base",
          "model_name": "LayoutModel",
          "state": {
            "_view_name": "LayoutView",
            "grid_template_rows": null,
            "right": null,
            "justify_content": null,
            "_view_module": "@jupyter-widgets/base",
            "overflow": null,
            "_model_module_version": "1.2.0",
            "_view_count": null,
            "flex_flow": null,
            "width": null,
            "min_width": null,
            "border": null,
            "align_items": null,
            "bottom": null,
            "_model_module": "@jupyter-widgets/base",
            "top": null,
            "grid_column": null,
            "overflow_y": null,
            "overflow_x": null,
            "grid_auto_flow": null,
            "grid_area": null,
            "grid_template_columns": null,
            "flex": null,
            "_model_name": "LayoutModel",
            "justify_items": null,
            "grid_row": null,
            "max_height": null,
            "align_content": null,
            "visibility": null,
            "align_self": null,
            "height": null,
            "min_height": null,
            "padding": null,
            "grid_auto_rows": null,
            "grid_gap": null,
            "max_width": null,
            "order": null,
            "_view_module_version": "1.2.0",
            "grid_template_areas": null,
            "object_position": null,
            "object_fit": null,
            "grid_auto_columns": null,
            "margin": null,
            "display": null,
            "left": null
          }
        }
      }
    }
  },
  "cells": [
    {
      "cell_type": "code",
      "metadata": {
        "id": "YiouqYvJg4FN",
        "colab": {
          "base_uri": "https://localhost:8080/"
        },
        "outputId": "5d5d2bbb-1632-4149-b48e-2fc02ce89b19"
      },
      "source": [
        "!pip install git+https://github.com/ylg619/yogAssist.git"
      ],
      "execution_count": 1,
      "outputs": [
        {
          "output_type": "stream",
          "text": [
            "Collecting git+https://github.com/ylg619/yogAssist.git\n",
            "  Cloning https://github.com/ylg619/yogAssist.git to /tmp/pip-req-build-ox4b45bt\n",
            "  Running command git clone -q https://github.com/ylg619/yogAssist.git /tmp/pip-req-build-ox4b45bt\n",
            "Requirement already satisfied (use --upgrade to upgrade): yogAssit==1.0 from git+https://github.com/ylg619/yogAssist.git in /usr/local/lib/python3.7/dist-packages\n",
            "Requirement already satisfied: anyio==3.1.0 in /usr/local/lib/python3.7/dist-packages (from yogAssit==1.0) (3.1.0)\n",
            "Requirement already satisfied: appnope==0.1.2 in /usr/local/lib/python3.7/dist-packages (from yogAssit==1.0) (0.1.2)\n",
            "Requirement already satisfied: argon2-cffi==20.1.0 in /usr/local/lib/python3.7/dist-packages (from yogAssit==1.0) (20.1.0)\n",
            "Requirement already satisfied: astroid==2.5.6 in /usr/local/lib/python3.7/dist-packages (from yogAssit==1.0) (2.5.6)\n",
            "Requirement already satisfied: async-generator==1.10 in /usr/local/lib/python3.7/dist-packages (from yogAssit==1.0) (1.10)\n",
            "Requirement already satisfied: attrs==21.2.0 in /usr/local/lib/python3.7/dist-packages (from yogAssit==1.0) (21.2.0)\n",
            "Requirement already satisfied: Babel==2.9.1 in /usr/local/lib/python3.7/dist-packages (from yogAssit==1.0) (2.9.1)\n",
            "Requirement already satisfied: backcall==0.2.0 in /usr/local/lib/python3.7/dist-packages (from yogAssit==1.0) (0.2.0)\n",
            "Requirement already satisfied: bleach==3.3.0 in /usr/local/lib/python3.7/dist-packages (from yogAssit==1.0) (3.3.0)\n",
            "Requirement already satisfied: certifi==2020.12.5 in /usr/local/lib/python3.7/dist-packages (from yogAssit==1.0) (2020.12.5)\n",
            "Requirement already satisfied: cffi==1.14.5 in /usr/local/lib/python3.7/dist-packages (from yogAssit==1.0) (1.14.5)\n",
            "Requirement already satisfied: chardet==4.0.0 in /usr/local/lib/python3.7/dist-packages (from yogAssit==1.0) (4.0.0)\n",
            "Requirement already satisfied: cycler==0.10.0 in /usr/local/lib/python3.7/dist-packages (from yogAssit==1.0) (0.10.0)\n",
            "Requirement already satisfied: decorator==5.0.9 in /usr/local/lib/python3.7/dist-packages (from yogAssit==1.0) (5.0.9)\n",
            "Requirement already satisfied: defusedxml==0.7.1 in /usr/local/lib/python3.7/dist-packages (from yogAssit==1.0) (0.7.1)\n",
            "Requirement already satisfied: entrypoints==0.3 in /usr/local/lib/python3.7/dist-packages (from yogAssit==1.0) (0.3)\n",
            "Requirement already satisfied: idna==2.10 in /usr/local/lib/python3.7/dist-packages (from yogAssit==1.0) (2.10)\n",
            "Requirement already satisfied: iniconfig==1.1.1 in /usr/local/lib/python3.7/dist-packages (from yogAssit==1.0) (1.1.1)\n",
            "Requirement already satisfied: ipdb==0.13.7 in /usr/local/lib/python3.7/dist-packages (from yogAssit==1.0) (0.13.7)\n",
            "Requirement already satisfied: ipykernel==5.5.5 in /usr/local/lib/python3.7/dist-packages (from yogAssit==1.0) (5.5.5)\n",
            "Requirement already satisfied: ipython==7.23.1 in /usr/local/lib/python3.7/dist-packages (from yogAssit==1.0) (7.23.1)\n",
            "Requirement already satisfied: ipython-genutils==0.2.0 in /usr/local/lib/python3.7/dist-packages (from yogAssit==1.0) (0.2.0)\n",
            "Requirement already satisfied: isort==5.8.0 in /usr/local/lib/python3.7/dist-packages (from yogAssit==1.0) (5.8.0)\n",
            "Requirement already satisfied: jedi==0.18.0 in /usr/local/lib/python3.7/dist-packages (from yogAssit==1.0) (0.18.0)\n",
            "Requirement already satisfied: Jinja2==3.0.1 in /usr/local/lib/python3.7/dist-packages (from yogAssit==1.0) (3.0.1)\n",
            "Requirement already satisfied: joblib==1.0.1 in /usr/local/lib/python3.7/dist-packages (from yogAssit==1.0) (1.0.1)\n",
            "Requirement already satisfied: json5==0.9.5 in /usr/local/lib/python3.7/dist-packages (from yogAssit==1.0) (0.9.5)\n",
            "Requirement already satisfied: jsonschema==3.2.0 in /usr/local/lib/python3.7/dist-packages (from yogAssit==1.0) (3.2.0)\n",
            "Requirement already satisfied: jupyter-client==6.1.12 in /usr/local/lib/python3.7/dist-packages (from yogAssit==1.0) (6.1.12)\n",
            "Requirement already satisfied: jupyter-core==4.7.1 in /usr/local/lib/python3.7/dist-packages (from yogAssit==1.0) (4.7.1)\n",
            "Requirement already satisfied: jupyter-server==1.8.0 in /usr/local/lib/python3.7/dist-packages (from yogAssit==1.0) (1.8.0)\n",
            "Requirement already satisfied: jupyterlab==3.0.16 in /usr/local/lib/python3.7/dist-packages (from yogAssit==1.0) (3.0.16)\n",
            "Requirement already satisfied: jupyterlab-pygments==0.1.2 in /usr/local/lib/python3.7/dist-packages (from yogAssit==1.0) (0.1.2)\n",
            "Requirement already satisfied: jupyterlab-server==2.5.2 in /usr/local/lib/python3.7/dist-packages (from yogAssit==1.0) (2.5.2)\n",
            "Requirement already satisfied: kiwisolver==1.3.1 in /usr/local/lib/python3.7/dist-packages (from yogAssit==1.0) (1.3.1)\n",
            "Requirement already satisfied: lazy-object-proxy==1.6.0 in /usr/local/lib/python3.7/dist-packages (from yogAssit==1.0) (1.6.0)\n",
            "Requirement already satisfied: MarkupSafe==2.0.1 in /usr/local/lib/python3.7/dist-packages (from yogAssit==1.0) (2.0.1)\n",
            "Requirement already satisfied: matplotlib==3.4.2 in /usr/local/lib/python3.7/dist-packages (from yogAssit==1.0) (3.4.2)\n",
            "Requirement already satisfied: matplotlib-inline==0.1.2 in /usr/local/lib/python3.7/dist-packages (from yogAssit==1.0) (0.1.2)\n",
            "Requirement already satisfied: mccabe==0.6.1 in /usr/local/lib/python3.7/dist-packages (from yogAssit==1.0) (0.6.1)\n",
            "Requirement already satisfied: mistune==0.8.4 in /usr/local/lib/python3.7/dist-packages (from yogAssit==1.0) (0.8.4)\n",
            "Requirement already satisfied: nbclassic==0.3.1 in /usr/local/lib/python3.7/dist-packages (from yogAssit==1.0) (0.3.1)\n",
            "Requirement already satisfied: nbclient==0.5.3 in /usr/local/lib/python3.7/dist-packages (from yogAssit==1.0) (0.5.3)\n",
            "Requirement already satisfied: nbconvert==6.0.7 in /usr/local/lib/python3.7/dist-packages (from yogAssit==1.0) (6.0.7)\n",
            "Requirement already satisfied: nbformat==5.1.3 in /usr/local/lib/python3.7/dist-packages (from yogAssit==1.0) (5.1.3)\n",
            "Requirement already satisfied: nest-asyncio==1.5.1 in /usr/local/lib/python3.7/dist-packages (from yogAssit==1.0) (1.5.1)\n",
            "Requirement already satisfied: notebook==6.4.0 in /usr/local/lib/python3.7/dist-packages (from yogAssit==1.0) (6.4.0)\n",
            "Requirement already satisfied: numpy==1.20.3 in /usr/local/lib/python3.7/dist-packages (from yogAssit==1.0) (1.20.3)\n",
            "Requirement already satisfied: packaging==20.9 in /usr/local/lib/python3.7/dist-packages (from yogAssit==1.0) (20.9)\n",
            "Requirement already satisfied: pandas==1.2.4 in /usr/local/lib/python3.7/dist-packages (from yogAssit==1.0) (1.2.4)\n",
            "Requirement already satisfied: pandocfilters==1.4.3 in /usr/local/lib/python3.7/dist-packages (from yogAssit==1.0) (1.4.3)\n",
            "Requirement already satisfied: parso==0.8.2 in /usr/local/lib/python3.7/dist-packages (from yogAssit==1.0) (0.8.2)\n",
            "Requirement already satisfied: pexpect==4.8.0 in /usr/local/lib/python3.7/dist-packages (from yogAssit==1.0) (4.8.0)\n",
            "Requirement already satisfied: pickleshare==0.7.5 in /usr/local/lib/python3.7/dist-packages (from yogAssit==1.0) (0.7.5)\n",
            "Requirement already satisfied: Pillow==8.2.0 in /usr/local/lib/python3.7/dist-packages (from yogAssit==1.0) (8.2.0)\n",
            "Requirement already satisfied: pluggy==0.13.1 in /usr/local/lib/python3.7/dist-packages (from yogAssit==1.0) (0.13.1)\n",
            "Requirement already satisfied: prometheus-client==0.10.1 in /usr/local/lib/python3.7/dist-packages (from yogAssit==1.0) (0.10.1)\n",
            "Requirement already satisfied: prompt-toolkit==3.0.18 in /usr/local/lib/python3.7/dist-packages (from yogAssit==1.0) (3.0.18)\n",
            "Requirement already satisfied: ptyprocess==0.7.0 in /usr/local/lib/python3.7/dist-packages (from yogAssit==1.0) (0.7.0)\n",
            "Requirement already satisfied: py==1.10.0 in /usr/local/lib/python3.7/dist-packages (from yogAssit==1.0) (1.10.0)\n",
            "Requirement already satisfied: pycparser==2.20 in /usr/local/lib/python3.7/dist-packages (from yogAssit==1.0) (2.20)\n",
            "Requirement already satisfied: Pygments==2.9.0 in /usr/local/lib/python3.7/dist-packages (from yogAssit==1.0) (2.9.0)\n",
            "Requirement already satisfied: pylint==2.8.2 in /usr/local/lib/python3.7/dist-packages (from yogAssit==1.0) (2.8.2)\n",
            "Requirement already satisfied: pyparsing==2.4.7 in /usr/local/lib/python3.7/dist-packages (from yogAssit==1.0) (2.4.7)\n",
            "Requirement already satisfied: pyrsistent==0.17.3 in /usr/local/lib/python3.7/dist-packages (from yogAssit==1.0) (0.17.3)\n",
            "Requirement already satisfied: pytest==6.2.4 in /usr/local/lib/python3.7/dist-packages (from yogAssit==1.0) (6.2.4)\n",
            "Requirement already satisfied: python-dateutil==2.8.1 in /usr/local/lib/python3.7/dist-packages (from yogAssit==1.0) (2.8.1)\n",
            "Requirement already satisfied: pytz==2021.1 in /usr/local/lib/python3.7/dist-packages (from yogAssit==1.0) (2021.1)\n",
            "Requirement already satisfied: pyzmq==22.0.3 in /usr/local/lib/python3.7/dist-packages (from yogAssit==1.0) (22.0.3)\n",
            "Requirement already satisfied: requests==2.25.1 in /usr/local/lib/python3.7/dist-packages (from yogAssit==1.0) (2.25.1)\n",
            "Requirement already satisfied: scikit-learn==0.24.2 in /usr/local/lib/python3.7/dist-packages (from yogAssit==1.0) (0.24.2)\n",
            "Requirement already satisfied: scipy==1.6.3 in /usr/local/lib/python3.7/dist-packages (from yogAssit==1.0) (1.6.3)\n",
            "Requirement already satisfied: seaborn==0.11.1 in /usr/local/lib/python3.7/dist-packages (from yogAssit==1.0) (0.11.1)\n",
            "Requirement already satisfied: Send2Trash==1.5.0 in /usr/local/lib/python3.7/dist-packages (from yogAssit==1.0) (1.5.0)\n",
            "Requirement already satisfied: six==1.16.0 in /usr/local/lib/python3.7/dist-packages (from yogAssit==1.0) (1.16.0)\n",
            "Requirement already satisfied: sniffio==1.2.0 in /usr/local/lib/python3.7/dist-packages (from yogAssit==1.0) (1.2.0)\n",
            "Requirement already satisfied: terminado==0.10.0 in /usr/local/lib/python3.7/dist-packages (from yogAssit==1.0) (0.10.0)\n",
            "Requirement already satisfied: testpath==0.5.0 in /usr/local/lib/python3.7/dist-packages (from yogAssit==1.0) (0.5.0)\n",
            "Requirement already satisfied: threadpoolctl==2.1.0 in /usr/local/lib/python3.7/dist-packages (from yogAssit==1.0) (2.1.0)\n",
            "Requirement already satisfied: toml==0.10.2 in /usr/local/lib/python3.7/dist-packages (from yogAssit==1.0) (0.10.2)\n",
            "Requirement already satisfied: tornado==6.1 in /usr/local/lib/python3.7/dist-packages (from yogAssit==1.0) (6.1)\n",
            "Requirement already satisfied: traitlets==5.0.5 in /usr/local/lib/python3.7/dist-packages (from yogAssit==1.0) (5.0.5)\n",
            "Requirement already satisfied: urllib3==1.26.4 in /usr/local/lib/python3.7/dist-packages (from yogAssit==1.0) (1.26.4)\n",
            "Requirement already satisfied: wcwidth==0.2.5 in /usr/local/lib/python3.7/dist-packages (from yogAssit==1.0) (0.2.5)\n",
            "Requirement already satisfied: webencodings==0.5.1 in /usr/local/lib/python3.7/dist-packages (from yogAssit==1.0) (0.5.1)\n",
            "Requirement already satisfied: websocket-client==1.0.1 in /usr/local/lib/python3.7/dist-packages (from yogAssit==1.0) (1.0.1)\n",
            "Requirement already satisfied: wrapt==1.12.1 in /usr/local/lib/python3.7/dist-packages (from yogAssit==1.0) (1.12.1)\n",
            "Requirement already satisfied: pep8 in /usr/local/lib/python3.7/dist-packages (from yogAssit==1.0) (1.7.1)\n",
            "Requirement already satisfied: beautifulsoup4 in /usr/local/lib/python3.7/dist-packages (from yogAssit==1.0) (4.6.3)\n",
            "Requirement already satisfied: autopep8 in /usr/local/lib/python3.7/dist-packages (from yogAssit==1.0) (1.5.7)\n",
            "Requirement already satisfied: tensorflow in /usr/local/lib/python3.7/dist-packages (from yogAssit==1.0) (2.5.0)\n",
            "Requirement already satisfied: opencv-python in /usr/local/lib/python3.7/dist-packages (from yogAssit==1.0) (4.1.2.30)\n",
            "Requirement already satisfied: opencv-contrib-python in /usr/local/lib/python3.7/dist-packages (from yogAssit==1.0) (4.1.2.30)\n",
            "Requirement already satisfied: numba in /usr/local/lib/python3.7/dist-packages (from yogAssit==1.0) (0.51.2)\n",
            "Requirement already satisfied: typing-extensions; python_version < \"3.8\" in /usr/local/lib/python3.7/dist-packages (from anyio==3.1.0->yogAssit==1.0) (3.7.4.3)\n",
            "Requirement already satisfied: typed-ast<1.5,>=1.4.0; implementation_name == \"cpython\" and python_version < \"3.8\" in /usr/local/lib/python3.7/dist-packages (from astroid==2.5.6->yogAssit==1.0) (1.4.3)\n",
            "Requirement already satisfied: setuptools in /usr/local/lib/python3.7/dist-packages (from ipdb==0.13.7->yogAssit==1.0) (56.1.0)\n",
            "Requirement already satisfied: importlib-metadata; python_version < \"3.8\" in /usr/local/lib/python3.7/dist-packages (from jsonschema==3.2.0->yogAssit==1.0) (4.0.1)\n",
            "Requirement already satisfied: pycodestyle>=2.7.0 in /usr/local/lib/python3.7/dist-packages (from autopep8->yogAssit==1.0) (2.7.0)\n",
            "Requirement already satisfied: tensorflow-estimator<2.6.0,>=2.5.0rc0 in /usr/local/lib/python3.7/dist-packages (from tensorflow->yogAssit==1.0) (2.5.0)\n",
            "Requirement already satisfied: protobuf>=3.9.2 in /usr/local/lib/python3.7/dist-packages (from tensorflow->yogAssit==1.0) (3.12.4)\n",
            "Requirement already satisfied: h5py~=3.1.0 in /usr/local/lib/python3.7/dist-packages (from tensorflow->yogAssit==1.0) (3.1.0)\n",
            "Requirement already satisfied: termcolor~=1.1.0 in /usr/local/lib/python3.7/dist-packages (from tensorflow->yogAssit==1.0) (1.1.0)\n",
            "Requirement already satisfied: astunparse~=1.6.3 in /usr/local/lib/python3.7/dist-packages (from tensorflow->yogAssit==1.0) (1.6.3)\n",
            "Requirement already satisfied: keras-preprocessing~=1.1.2 in /usr/local/lib/python3.7/dist-packages (from tensorflow->yogAssit==1.0) (1.1.2)\n",
            "Requirement already satisfied: tensorboard~=2.5 in /usr/local/lib/python3.7/dist-packages (from tensorflow->yogAssit==1.0) (2.5.0)\n",
            "Requirement already satisfied: gast==0.4.0 in /usr/local/lib/python3.7/dist-packages (from tensorflow->yogAssit==1.0) (0.4.0)\n",
            "Requirement already satisfied: grpcio~=1.34.0 in /usr/local/lib/python3.7/dist-packages (from tensorflow->yogAssit==1.0) (1.34.1)\n",
            "Requirement already satisfied: absl-py~=0.10 in /usr/local/lib/python3.7/dist-packages (from tensorflow->yogAssit==1.0) (0.12.0)\n",
            "Requirement already satisfied: opt-einsum~=3.3.0 in /usr/local/lib/python3.7/dist-packages (from tensorflow->yogAssit==1.0) (3.3.0)\n",
            "Requirement already satisfied: google-pasta~=0.2 in /usr/local/lib/python3.7/dist-packages (from tensorflow->yogAssit==1.0) (0.2.0)\n",
            "Requirement already satisfied: keras-nightly~=2.5.0.dev in /usr/local/lib/python3.7/dist-packages (from tensorflow->yogAssit==1.0) (2.5.0.dev2021032900)\n",
            "Requirement already satisfied: wheel~=0.35 in /usr/local/lib/python3.7/dist-packages (from tensorflow->yogAssit==1.0) (0.36.2)\n",
            "Requirement already satisfied: flatbuffers~=1.12.0 in /usr/local/lib/python3.7/dist-packages (from tensorflow->yogAssit==1.0) (1.12)\n",
            "Requirement already satisfied: llvmlite<0.35,>=0.34.0.dev0 in /usr/local/lib/python3.7/dist-packages (from numba->yogAssit==1.0) (0.34.0)\n",
            "Requirement already satisfied: zipp>=0.5 in /usr/local/lib/python3.7/dist-packages (from importlib-metadata; python_version < \"3.8\"->jsonschema==3.2.0->yogAssit==1.0) (3.4.1)\n",
            "Requirement already satisfied: cached-property; python_version < \"3.8\" in /usr/local/lib/python3.7/dist-packages (from h5py~=3.1.0->tensorflow->yogAssit==1.0) (1.5.2)\n",
            "Requirement already satisfied: tensorboard-data-server<0.7.0,>=0.6.0 in /usr/local/lib/python3.7/dist-packages (from tensorboard~=2.5->tensorflow->yogAssit==1.0) (0.6.1)\n",
            "Requirement already satisfied: werkzeug>=0.11.15 in /usr/local/lib/python3.7/dist-packages (from tensorboard~=2.5->tensorflow->yogAssit==1.0) (1.0.1)\n",
            "Requirement already satisfied: markdown>=2.6.8 in /usr/local/lib/python3.7/dist-packages (from tensorboard~=2.5->tensorflow->yogAssit==1.0) (3.3.4)\n",
            "Requirement already satisfied: google-auth-oauthlib<0.5,>=0.4.1 in /usr/local/lib/python3.7/dist-packages (from tensorboard~=2.5->tensorflow->yogAssit==1.0) (0.4.4)\n",
            "Requirement already satisfied: tensorboard-plugin-wit>=1.6.0 in /usr/local/lib/python3.7/dist-packages (from tensorboard~=2.5->tensorflow->yogAssit==1.0) (1.8.0)\n",
            "Requirement already satisfied: google-auth<2,>=1.6.3 in /usr/local/lib/python3.7/dist-packages (from tensorboard~=2.5->tensorflow->yogAssit==1.0) (1.30.0)\n",
            "Requirement already satisfied: requests-oauthlib>=0.7.0 in /usr/local/lib/python3.7/dist-packages (from google-auth-oauthlib<0.5,>=0.4.1->tensorboard~=2.5->tensorflow->yogAssit==1.0) (1.3.0)\n",
            "Requirement already satisfied: pyasn1-modules>=0.2.1 in /usr/local/lib/python3.7/dist-packages (from google-auth<2,>=1.6.3->tensorboard~=2.5->tensorflow->yogAssit==1.0) (0.2.8)\n",
            "Requirement already satisfied: rsa<5,>=3.1.4; python_version >= \"3.6\" in /usr/local/lib/python3.7/dist-packages (from google-auth<2,>=1.6.3->tensorboard~=2.5->tensorflow->yogAssit==1.0) (4.7.2)\n",
            "Requirement already satisfied: cachetools<5.0,>=2.0.0 in /usr/local/lib/python3.7/dist-packages (from google-auth<2,>=1.6.3->tensorboard~=2.5->tensorflow->yogAssit==1.0) (4.2.2)\n",
            "Requirement already satisfied: oauthlib>=3.0.0 in /usr/local/lib/python3.7/dist-packages (from requests-oauthlib>=0.7.0->google-auth-oauthlib<0.5,>=0.4.1->tensorboard~=2.5->tensorflow->yogAssit==1.0) (3.1.0)\n",
            "Requirement already satisfied: pyasn1<0.5.0,>=0.4.6 in /usr/local/lib/python3.7/dist-packages (from pyasn1-modules>=0.2.1->google-auth<2,>=1.6.3->tensorboard~=2.5->tensorflow->yogAssit==1.0) (0.4.8)\n",
            "Building wheels for collected packages: yogAssit\n",
            "  Building wheel for yogAssit (setup.py) ... \u001b[?25l\u001b[?25hdone\n",
            "  Created wheel for yogAssit: filename=yogAssit-1.0-cp37-none-any.whl size=17803 sha256=a4f35258e1fdaa17af0f02e8a1862d433007ca82d9fc35a0c471c2a3c72d0bce\n",
            "  Stored in directory: /tmp/pip-ephem-wheel-cache-hh56yu61/wheels/71/15/d1/263b25d47e80a22c4084b4f3032ba967e165d49f0b5441608a\n",
            "Successfully built yogAssit\n"
          ],
          "name": "stdout"
        }
      ]
    },
    {
      "cell_type": "code",
      "metadata": {
        "id": "jQrzhYxRhNX7"
      },
      "source": [
        "import yogAssist\n",
        "import yogAssist.post as post\n",
        "from yogAssist.model_wrapper import ModelWrapper"
      ],
      "execution_count": 20,
      "outputs": []
    },
    {
      "cell_type": "code",
      "metadata": {
        "colab": {
          "base_uri": "https://localhost:8080/"
        },
        "id": "Sj8LljGNiOw4",
        "outputId": "8b011c4d-1d4e-47c4-c058-d57d5cefedbc"
      },
      "source": [
        "from google.colab import drive\n",
        "drive.mount('/content/drive',force_remount=True )"
      ],
      "execution_count": 4,
      "outputs": [
        {
          "output_type": "stream",
          "text": [
            "Mounted at /content/drive\n"
          ],
          "name": "stdout"
        }
      ]
    },
    {
      "cell_type": "code",
      "metadata": {
        "colab": {
          "base_uri": "https://localhost:8080/"
        },
        "id": "7gPGyM1EiS5B",
        "outputId": "90cce8c8-cf08-440d-a6e7-877aeeee7159"
      },
      "source": [
        "cd drive/MyDrive/raw_data/"
      ],
      "execution_count": 5,
      "outputs": [
        {
          "output_type": "stream",
          "text": [
            "/content/drive/MyDrive/raw_data\n"
          ],
          "name": "stdout"
        }
      ]
    },
    {
      "cell_type": "code",
      "metadata": {
        "colab": {
          "base_uri": "https://localhost:8080/"
        },
        "id": "1jBqEzKrjc2f",
        "outputId": "2e1dbc2d-3db1-4757-a335-f4ed088b006c"
      },
      "source": [
        "ls"
      ],
      "execution_count": 6,
      "outputs": [
        {
          "output_type": "stream",
          "text": [
            "\u001b[0m\u001b[01;34mbonus\u001b[0m/                images_labels.txt    missing_kaggle_to_yoga82.gdoc\n",
            "\u001b[01;34mcapucine\u001b[0m/             \u001b[01;34mimages-yogajournal\u001b[0m/  missing_kaggle_to_yoga82.txt\n",
            "\u001b[01;34mcsv\u001b[0m/                  kaggle_44-0.png      \u001b[01;34mmodel11_test-15Sun1219-2101\u001b[0m/\n",
            "\u001b[01;34mdataset\u001b[0m/              kaggle_80-0.png      \u001b[01;34mmodel11_train-15Sun1219-2059\u001b[0m/\n",
            "\u001b[01;34mDenseNet_model_data\u001b[0m/  kaggle.json          success.csv\n",
            "failure.csv           \u001b[01;34mkaggle-yoga-pose\u001b[0m/    \u001b[01;34myoga_dataset_links\u001b[0m/\n",
            "\u001b[01;34mimages\u001b[0m/               keypoints_stat.txt   \u001b[01;34myoga_journal_links\u001b[0m/\n"
          ],
          "name": "stdout"
        }
      ]
    },
    {
      "cell_type": "code",
      "metadata": {
        "colab": {
          "base_uri": "https://localhost:8080/"
        },
        "id": "EBINJmMli11m",
        "outputId": "c6720bd8-d39f-4ae3-aa5d-b295a418a97c"
      },
      "source": [
        "model = ModelWrapper('./model11_test-15Sun1219-2101')"
      ],
      "execution_count": 7,
      "outputs": [
        {
          "output_type": "stream",
          "text": [
            "WARNING:tensorflow:SavedModel saved prior to TF 2.5 detected when loading Keras model. Please ensure that you are saving the model with model.save() or tf.keras.models.save_model(), *NOT* tf.saved_model.save(). To confirm, there should be a file named \"keras_metadata.pb\" in the SavedModel directory.\n",
            "WARNING:tensorflow:No training configuration found in save file, so the model was *not* compiled. Compile it manually.\n"
          ],
          "name": "stdout"
        }
      ]
    },
    {
      "cell_type": "code",
      "metadata": {
        "id": "gITPEFW0jf3C"
      },
      "source": [
        "ki = 'images'\n",
        "from tensorflow.keras.preprocessing.image import ImageDataGenerator, load_img, img_to_array"
      ],
      "execution_count": 8,
      "outputs": []
    },
    {
      "cell_type": "markdown",
      "metadata": {
        "id": "CWFPzJT1rZUY"
      },
      "source": [
        "### 1. Using ImageGenerator"
      ]
    },
    {
      "cell_type": "code",
      "metadata": {
        "colab": {
          "base_uri": "https://localhost:8080/"
        },
        "id": "Y-aZPCOp0TSG",
        "outputId": "bb9cecab-90d9-4080-fb74-c95a4bb78947"
      },
      "source": [
        "test_gen = ImageDataGenerator(rescale=1./255)\n",
        "\n",
        "test_set = test_gen.flow_from_directory(f'{BASE_PATH}',\n",
        "                                          target_size=(368,368),\n",
        "                                          batch_size=32,\n",
        "                                          class_mode='categorical',shuffle=False)"
      ],
      "execution_count": null,
      "outputs": [
        {
          "output_type": "stream",
          "text": [
            "Found 23973 images belonging to 82 classes.\n"
          ],
          "name": "stdout"
        }
      ]
    },
    {
      "cell_type": "code",
      "metadata": {
        "id": "PdV7Y_NrfBOg"
      },
      "source": [
        "with open('images_labels.txt','a') as f:\n",
        "    f.writelines(test_set.filenames)\n"
      ],
      "execution_count": null,
      "outputs": []
    },
    {
      "cell_type": "code",
      "metadata": {
        "id": "sLSsw_t90dQE"
      },
      "source": [
        "pafs, kps = model.model.predict(test_set)"
      ],
      "execution_count": null,
      "outputs": []
    },
    {
      "cell_type": "code",
      "metadata": {
        "id": "rQKx5K6A0zAo"
      },
      "source": [
        "skeletonizer = post.Skeletonizer(kps[0], pafs[0])"
      ],
      "execution_count": null,
      "outputs": []
    },
    {
      "cell_type": "code",
      "metadata": {
        "id": "D_nxN2AI3CJx"
      },
      "source": [
        "skeletons = skeletonizer.create_skeletons()"
      ],
      "execution_count": null,
      "outputs": []
    },
    {
      "cell_type": "code",
      "metadata": {
        "colab": {
          "base_uri": "https://localhost:8080/"
        },
        "id": "azMd8OJp4aRU",
        "outputId": "33a3c124-0e61-489a-c346-8c68ae446663"
      },
      "source": [
        "test_set.filenames"
      ],
      "execution_count": null,
      "outputs": [
        {
          "output_type": "execute_result",
          "data": {
            "text/plain": [
              "[\"Bharadvaja's_Twist_pose_or_Bharadvajasana_I_/yogajournal_78.jpg\",\n",
              " 'Boat_Pose_or_Paripurna_Navasana_/yogajournal_77.jpg',\n",
              " 'Bound_Angle_Pose_or_Baddha_Konasana_/yogajournal_104.jpg',\n",
              " 'Bow_Pose_or_Dhanurasana_/yogajournal_142.jpg',\n",
              " 'Camel_Pose_or_Ustrasana_/yogajournal_141.jpg',\n",
              " 'Cat_Cow_Pose_or_Marjaryasana_/yogajournal_75.jpg',\n",
              " 'Chair_Pose_or_Utkatasana_/yogajournal_63.jpg',\n",
              " 'Child_Pose_or_Balasana_/yogajournal_103.jpg',\n",
              " 'Cobra_Pose_or_Bhujangasana_/yogajournal_140.jpg',\n",
              " 'Crane_(Crow)_Pose_or_Bakasana_/yogajournal_167.jpg',\n",
              " 'Dolphin_Plank_Pose_or_Makara_Adho_Mukha_Svanasana_/yogajournal_127.jpg',\n",
              " 'Dolphin_Pose_or_Ardha_Pincha_Mayurasana_/yogajournal_62.jpg',\n",
              " 'Eagle_Pose_or_Garudasana_/yogajournal_61.jpg',\n",
              " 'Extended_Puppy_Pose_or_Uttana_Shishosana_/yogajournal_115.jpg',\n",
              " 'Extended_Revolved_Side_Angle_Pose_or_Utthita_Parsvakonasana_/yogajournal_59.jpg',\n",
              " 'Extended_Revolved_Triangle_Pose_or_Utthita_Trikonasana_/yogajournal_30.jpg',\n",
              " 'Feathered_Peacock_Pose_or_Pincha_Mayurasana_/yogajournal_91.jpg',\n",
              " 'Fish_Pose_or_Matsyasana_/yogajournal_138.jpg',\n",
              " 'Four-Limbed_Staff_Pose_or_Chaturanga_Dandasana_/yogajournal_125.jpg',\n",
              " 'Frog_Pose_or_Bhekasana/yogajournal_137.jpg',\n",
              " 'Garland_Pose_or_Malasana_/yogajournal_57.jpg',\n",
              " 'Half_Lord_of_the_Fishes_Pose_or_Ardha_Matsyendrasana_/yogajournal_74.jpg',\n",
              " 'Half_Moon_Pose_or_Ardha_Chandrasana_/yogajournal_151.jpg',\n",
              " 'Handstand_pose_or_Adho_Mukha_Vrksasana_/yogajournal_90.jpg',\n",
              " 'Happy_Baby_Pose_or_Ananda_Balasana_/yogajournal_124.jpg',\n",
              " 'Head-to-Knee_Forward_Bend_pose_or_Janu_Sirsasana_/yogajournal_114.jpg',\n",
              " 'Intense_Side_Stretch_Pose_or_Parsvottanasana_/yogajournal_113.jpg',\n",
              " 'Legs-Up-the-Wall_Pose_or_Viparita_Karani_/yogajournal_89.jpg',\n",
              " 'Locust_Pose_or_Salabhasana_/yogajournal_34.jpg',\n",
              " 'Lord_of_the_Dance_Pose_or_Natarajasana_/yogajournal_52.jpg',\n",
              " 'Noose_Pose_or_Pasasana_/yogajournal_33.jpg',\n",
              " 'Plank_Pose_or_Kumbhakasana_/yogajournal_123.jpg',\n",
              " 'Pose_Dedicated_to_the_Sage_Koundinya_or_Eka_Pada_Koundinyanasana_I_and_II/yogajournal_159.jpg',\n",
              " 'Rajakapotasana/yogajournal_6.jpg',\n",
              " 'Reclining_Hand-to-Big-Toe_Pose_or_Supta_Padangusthasana_/yogajournal_80.jpg',\n",
              " 'Revolved_Head-to-Knee_Pose_or_Parivrtta_Janu_Sirsasana_/yogajournal_68.jpg',\n",
              " 'Scale_Pose_or_Tolasana_/yogajournal_158.jpg',\n",
              " 'Seated_Forward_Bend_pose_or_Paschimottanasana_/yogajournal_111.jpg',\n",
              " 'Side-Reclining_Leg_Lift_pose_or_Anantasana_/yogajournal_147.jpg',\n",
              " 'Side_Plank_Pose_or_Vasisthasana_/yogajournal_121.jpg',\n",
              " 'Standing_Forward_Bend_pose_or_Uttanasana_/yogajournal_109.jpg',\n",
              " 'Standing_Split_pose_or_Urdhva_Prasarita_Eka_Padasana_/yogajournal_108.jpg',\n",
              " 'Standing_big_toe_hold_pose_or_Utthita_Padangusthasana/yogajournal_31.jpg',\n",
              " 'Supported_Headstand_pose_or_Salamba_Sirsasana_/yogajournal_146.jpg',\n",
              " 'Supported_Shoulderstand_pose_or_Salamba_Sarvangasana_/yogajournal_145.jpg',\n",
              " 'Supta_Baddha_Konasana_/yogajournal_96.jpg',\n",
              " 'Upward_Bow_(Wheel)_Pose_or_Urdhva_Dhanurasana_/yogajournal_28.jpg',\n",
              " 'Upward_Facing_Two-Foot_Staff_Pose_or_Dwi_Pada_Viparita_Dandasana_/yogajournal_133.jpg',\n",
              " 'Virasana_or_Vajrasana/yogajournal_79.jpg',\n",
              " 'Warrior_III_Pose_or_Virabhadrasana_III_/yogajournal_144.jpg',\n",
              " 'Warrior_II_Pose_or_Virabhadrasana_II_/yogajournal_45.jpg',\n",
              " 'Warrior_I_Pose_or_Virabhadrasana_I_/yogajournal_46.jpg',\n",
              " 'Wide-Angle_Seated_Forward_Bend_pose_or_Upavistha_Konasana_/yogajournal_95.jpg',\n",
              " 'Wide-Legged_Forward_Bend_pose_or_Prasarita_Padottanasana_/yogajournal_94.jpg',\n",
              " 'Wild_Thing_pose_or_Camatkarasana_/yogajournal_132.jpg']"
            ]
          },
          "metadata": {
            "tags": []
          },
          "execution_count": 50
        }
      ]
    },
    {
      "cell_type": "code",
      "metadata": {
        "colab": {
          "base_uri": "https://localhost:8080/"
        },
        "id": "HHbc8R7c3Pm6",
        "outputId": "65ac6707-e2ce-4038-f278-427aab8f3be2"
      },
      "source": [
        "for i in range(kps.shape[0]):\n",
        "  skeletonizer = post.Skeletonizer(kps[i], pafs[i])\n",
        "  skeletons = skeletonizer.create_skeletons()\n",
        "  for skeleton in skeletons:\n",
        "    print(test_set.filenames[i],len(skeleton.keypoints))"
      ],
      "execution_count": null,
      "outputs": [
        {
          "output_type": "stream",
          "text": [
            "Bharadvaja's_Twist_pose_or_Bharadvajasana_I_/yogajournal_78.jpg 10\n",
            "Boat_Pose_or_Paripurna_Navasana_/yogajournal_77.jpg 6\n",
            "Bound_Angle_Pose_or_Baddha_Konasana_/yogajournal_104.jpg 14\n",
            "Bow_Pose_or_Dhanurasana_/yogajournal_142.jpg 3\n",
            "Bow_Pose_or_Dhanurasana_/yogajournal_142.jpg 2\n",
            "Bow_Pose_or_Dhanurasana_/yogajournal_142.jpg 3\n",
            "Camel_Pose_or_Ustrasana_/yogajournal_141.jpg 3\n",
            "Camel_Pose_or_Ustrasana_/yogajournal_141.jpg 3\n",
            "Cat_Cow_Pose_or_Marjaryasana_/yogajournal_75.jpg 2\n",
            "Cat_Cow_Pose_or_Marjaryasana_/yogajournal_75.jpg 2\n",
            "Chair_Pose_or_Utkatasana_/yogajournal_63.jpg 6\n",
            "Chair_Pose_or_Utkatasana_/yogajournal_63.jpg 3\n",
            "Chair_Pose_or_Utkatasana_/yogajournal_63.jpg 2\n",
            "Child_Pose_or_Balasana_/yogajournal_103.jpg 7\n",
            "Cobra_Pose_or_Bhujangasana_/yogajournal_140.jpg 9\n",
            "Crane_(Crow)_Pose_or_Bakasana_/yogajournal_167.jpg 2\n",
            "Crane_(Crow)_Pose_or_Bakasana_/yogajournal_167.jpg 2\n",
            "Dolphin_Plank_Pose_or_Makara_Adho_Mukha_Svanasana_/yogajournal_127.jpg 4\n",
            "Dolphin_Plank_Pose_or_Makara_Adho_Mukha_Svanasana_/yogajournal_127.jpg 3\n",
            "Eagle_Pose_or_Garudasana_/yogajournal_61.jpg 8\n",
            "Extended_Revolved_Side_Angle_Pose_or_Utthita_Parsvakonasana_/yogajournal_59.jpg 10\n",
            "Extended_Revolved_Side_Angle_Pose_or_Utthita_Parsvakonasana_/yogajournal_59.jpg 2\n",
            "Feathered_Peacock_Pose_or_Pincha_Mayurasana_/yogajournal_91.jpg 5\n",
            "Four-Limbed_Staff_Pose_or_Chaturanga_Dandasana_/yogajournal_125.jpg 4\n",
            "Four-Limbed_Staff_Pose_or_Chaturanga_Dandasana_/yogajournal_125.jpg 3\n",
            "Frog_Pose_or_Bhekasana/yogajournal_137.jpg 6\n",
            "Frog_Pose_or_Bhekasana/yogajournal_137.jpg 3\n",
            "Garland_Pose_or_Malasana_/yogajournal_57.jpg 12\n",
            "Half_Lord_of_the_Fishes_Pose_or_Ardha_Matsyendrasana_/yogajournal_74.jpg 12\n",
            "Head-to-Knee_Forward_Bend_pose_or_Janu_Sirsasana_/yogajournal_114.jpg 2\n",
            "Locust_Pose_or_Salabhasana_/yogajournal_34.jpg 4\n",
            "Lord_of_the_Dance_Pose_or_Natarajasana_/yogajournal_52.jpg 14\n",
            "Lord_of_the_Dance_Pose_or_Natarajasana_/yogajournal_52.jpg 2\n",
            "Noose_Pose_or_Pasasana_/yogajournal_33.jpg 9\n",
            "Plank_Pose_or_Kumbhakasana_/yogajournal_123.jpg 8\n",
            "Plank_Pose_or_Kumbhakasana_/yogajournal_123.jpg 2\n",
            "Plank_Pose_or_Kumbhakasana_/yogajournal_123.jpg 2\n",
            "Scale_Pose_or_Tolasana_/yogajournal_158.jpg 5\n",
            "Seated_Forward_Bend_pose_or_Paschimottanasana_/yogajournal_111.jpg 10\n",
            "Side-Reclining_Leg_Lift_pose_or_Anantasana_/yogajournal_147.jpg 3\n",
            "Side-Reclining_Leg_Lift_pose_or_Anantasana_/yogajournal_147.jpg 3\n",
            "Side-Reclining_Leg_Lift_pose_or_Anantasana_/yogajournal_147.jpg 2\n",
            "Side_Plank_Pose_or_Vasisthasana_/yogajournal_121.jpg 3\n",
            "Side_Plank_Pose_or_Vasisthasana_/yogajournal_121.jpg 4\n",
            "Standing_Forward_Bend_pose_or_Uttanasana_/yogajournal_109.jpg 2\n",
            "Standing_Forward_Bend_pose_or_Uttanasana_/yogajournal_109.jpg 3\n",
            "Standing_Forward_Bend_pose_or_Uttanasana_/yogajournal_109.jpg 2\n",
            "Standing_Split_pose_or_Urdhva_Prasarita_Eka_Padasana_/yogajournal_108.jpg 3\n",
            "Standing_Split_pose_or_Urdhva_Prasarita_Eka_Padasana_/yogajournal_108.jpg 3\n",
            "Standing_big_toe_hold_pose_or_Utthita_Padangusthasana/yogajournal_31.jpg 2\n",
            "Supta_Baddha_Konasana_/yogajournal_96.jpg 2\n",
            "Virasana_or_Vajrasana/yogajournal_79.jpg 9\n",
            "Warrior_III_Pose_or_Virabhadrasana_III_/yogajournal_144.jpg 13\n",
            "Warrior_II_Pose_or_Virabhadrasana_II_/yogajournal_45.jpg 17\n",
            "Warrior_I_Pose_or_Virabhadrasana_I_/yogajournal_46.jpg 8\n",
            "Warrior_I_Pose_or_Virabhadrasana_I_/yogajournal_46.jpg 2\n",
            "Wide-Angle_Seated_Forward_Bend_pose_or_Upavistha_Konasana_/yogajournal_95.jpg 12\n",
            "Wide-Angle_Seated_Forward_Bend_pose_or_Upavistha_Konasana_/yogajournal_95.jpg 2\n"
          ],
          "name": "stdout"
        }
      ]
    },
    {
      "cell_type": "code",
      "metadata": {
        "id": "gyMUj5PkA0DM"
      },
      "source": [
        "import yogAssist.visualizations as vis\n",
        "from PIL import Image"
      ],
      "execution_count": null,
      "outputs": []
    },
    {
      "cell_type": "code",
      "metadata": {
        "id": "tCErRLlmD0yY"
      },
      "source": [
        "import numpy as np\n"
      ],
      "execution_count": null,
      "outputs": []
    },
    {
      "cell_type": "code",
      "metadata": {
        "id": "WeGru5zfD9Qz"
      },
      "source": [
        "import configs.draw_config as draw_config"
      ],
      "execution_count": null,
      "outputs": []
    },
    {
      "cell_type": "code",
      "metadata": {
        "colab": {
          "base_uri": "https://localhost:8080/",
          "height": 656
        },
        "id": "imLOPGsc3_6g",
        "outputId": "5372dbdd-a2d9-4a12-9a2a-3b782f3edcf9"
      },
      "source": [
        "img = Image.open('images-yogajournal/Warrior_II_Pose_or_Virabhadrasana_II_/yogajournal_45.jpg')\n",
        "\n",
        "im = np.array(img.convert('RGB'))\n",
        "skeleton_drawer = vis.SkeletonDrawer(im, draw_config)\n",
        "skeletonizer = post.Skeletonizer(kps[50], pafs[50])\n",
        "skeletons = skeletonizer.create_skeletons()\n",
        "if len(skeletons) ==0:\n",
        "    print('skeleton load failed')\n",
        "else:\n",
        "    \n",
        "    for skeleton in skeletons:\n",
        "        print(skeleton.keypoints)\n",
        "        skeleton.draw_skeleton(skeleton_drawer.joint_draw,\n",
        "                              skeleton_drawer.kpt_draw)\n",
        "    im_tosave = Image.fromarray(im)\n",
        "    \n",
        "    im_tosave.show()"
      ],
      "execution_count": null,
      "outputs": [
        {
          "output_type": "stream",
          "text": [
            "{'nose': (0.24444444444444444, 0.4888888888888889), 'sternum': (0.3333333333333333, 0.5111111111111111), 'Rshoulder': (0.3111111111111111, 0.4666666666666667), 'Relbow': (0.3111111111111111, 0.4), 'Rwrist': (0.3111111111111111, 0.3111111111111111), 'Rhip': (0.5555555555555556, 0.4666666666666667), 'Rknee': (0.6222222222222222, 0.37777777777777777), 'Rankle': (0.8222222222222222, 0.35555555555555557), 'Reye': (0.2222222222222222, 0.4888888888888889), 'Lshoulder': (0.3111111111111111, 0.5555555555555556), 'Lelbow': (0.3333333333333333, 0.6444444444444445), 'Lwrist': (0.3111111111111111, 0.7111111111111111), 'Lhip': (0.5555555555555556, 0.5333333333333333), 'Lknee': (0.6888888888888889, 0.6), 'Lankle': (0.8222222222222222, 0.6888888888888889), 'Leye': (0.2222222222222222, 0.4888888888888889), 'Lear': (0.24444444444444444, 0.5333333333333333)}\n"
          ],
          "name": "stdout"
        },
        {
          "output_type": "display_data",
          "data": {
            "image/png": "[encoded data removed]",
            "text/plain": [
              "<PIL.Image.Image image mode=RGB size=1070x602 at 0x7F9527A16BD0>"
            ]
          },
          "metadata": {
            "tags": []
          }
        }
      ]
    },
    {
      "cell_type": "markdown",
      "metadata": {
        "id": "9pf-cAkZrmMm"
      },
      "source": [
        "### 2. Using image_dataset_from_directry() and balancing with batching"
      ]
    },
    {
      "cell_type": "code",
      "metadata": {
        "id": "d_f8QNbNFvvE"
      },
      "source": [
        "from tensorflow.keras.preprocessing import image_dataset_from_directory"
      ],
      "execution_count": 9,
      "outputs": []
    },
    {
      "cell_type": "code",
      "metadata": {
        "id": "1NajBPrdUt3q"
      },
      "source": [
        "import os\n",
        "import sys\n",
        "from os import listdir\n",
        "from os.path import isfile, isdir, join, \\\n",
        "                    splitext, dirname, basename"
      ],
      "execution_count": 10,
      "outputs": []
    },
    {
      "cell_type": "code",
      "metadata": {
        "colab": {
          "base_uri": "https://localhost:8080/"
        },
        "id": "MC28xRgtX-xo",
        "outputId": "a806ef5f-ad2c-4435-a203-eda3ae9009fe"
      },
      "source": [
        "total_list_of_files = []\n",
        "dataset_root_path = \"images\"\n",
        "\n",
        "classes = [f for f in listdir(dataset_root_path) if isdir(join(dataset_root_path, f))]\n",
        "\n",
        "for class_ in classes:\n",
        "  class_dir = dataset_root_path + \"/\" + class_\n",
        "  tmp = [join(class_dir, f) for f in listdir(class_dir) if isfile(join(class_dir, f))]\n",
        "  total_list_of_files += tmp\n",
        "\n",
        "print(f\"dataset(s) count: {len(total_list_of_files)} images\")"
      ],
      "execution_count": 11,
      "outputs": [
        {
          "output_type": "stream",
          "text": [
            "dataset(s) count: 24063 images\n"
          ],
          "name": "stdout"
        }
      ]
    },
    {
      "cell_type": "code",
      "metadata": {
        "colab": {
          "base_uri": "https://localhost:8080/"
        },
        "id": "xWonJ6m5DWdd",
        "outputId": "4c02bd2b-c7b0-417d-9e32-8bba05ff46e0"
      },
      "source": [
        "dataset = image_dataset_from_directory('images',image_size=(368,368),batch_size=64,shuffle=False)\n",
        "files_from_dataset = dataset.file_paths.copy()\n",
        "#dataset = dataset.map( lambda x, y: (x/255, y))\n",
        "labels=[]\n",
        "preds=[]\n",
        "\n",
        "# for batch_images, batch_labels in dataset:\n",
        "#     batch_preds = self.model.predict(batch_images)\n",
        "#     preds.append(batch_preds)\n",
        "#     labels.append(batch_labels)\n"
      ],
      "execution_count": 15,
      "outputs": [
        {
          "output_type": "stream",
          "text": [
            "Found 24063 files belonging to 82 classes.\n"
          ],
          "name": "stdout"
        }
      ]
    },
    {
      "cell_type": "code",
      "metadata": {
        "id": "aP0ukb9KVJD5"
      },
      "source": [
        "leftovers = [f for f in total_list_of_files if f not in files_from_dataset]\n",
        "for l in leftovers:\n",
        "  print (l)"
      ],
      "execution_count": 16,
      "outputs": []
    },
    {
      "cell_type": "code",
      "metadata": {
        "id": "TllJ9epTRdTb"
      },
      "source": [
        "from tqdm.notebook import tqdm"
      ],
      "execution_count": 18,
      "outputs": []
    },
    {
      "cell_type": "code",
      "metadata": {
        "colab": {
          "base_uri": "https://localhost:8080/",
          "height": 120,
          "referenced_widgets": [
            "c572d6d0fc2f43e1bab7bffefb0e3507",
            "770e5db2af47444190576ffaf31e8f28",
            "5020ac94e8964f50868ce16c81ebb93b",
            "e330e880fd114ec09d873289ac97215e",
            "7ccfb58b03c8460baa523ddb8da6971d",
            "6e98d716858e48aa97383089f5121948",
            "d360bd1433994337b9772e5fcb5093cf",
            "7c7dbbbb15914fe58ad06fa27c917d20"
          ]
        },
        "id": "FBnG3H-JGb5M",
        "outputId": "9cc9e9db-35c5-4ded-cb20-4d5e9e7698c0"
      },
      "source": [
        "l_nb_keypoints=[]\n",
        "j = 0\n",
        "for batch_images, batch_labels in tqdm(dataset):\n",
        "    pafs, kps = model.model.predict(batch_images)\n",
        "    l_nb_keypoints=[]\n",
        "    for i in range(kps.shape[0]):\n",
        "      skeletonizer = post.Skeletonizer(kps[i], pafs[i])\n",
        "      skeletons = skeletonizer.create_skeletons()\n",
        "      skl = [0] \n",
        "      for skeleton in skeletons:\n",
        "        skl.append(len(skeleton.keypoints))\n",
        "      \n",
        "      l_nb_keypoints.append(f'{j},{max(skl)}\\n')\n",
        "      j+=1\n",
        "    with open('keypoints_stat.txt','a') as f:\n",
        "        f.writelines(l_nb_keypoints)\n"
      ],
      "execution_count": null,
      "outputs": [
        {
          "output_type": "display_data",
          "data": {
            "application/vnd.jupyter.widget-view+json": {
              "model_id": "c572d6d0fc2f43e1bab7bffefb0e3507",
              "version_major": 2,
              "version_minor": 0
            },
            "text/plain": [
              "HBox(children=(FloatProgress(value=0.0, max=376.0), HTML(value='')))"
            ]
          },
          "metadata": {
            "tags": []
          }
        },
        {
          "output_type": "stream",
          "text": [
            "/usr/local/lib/python3.7/dist-packages/yogAssist/post.py:92: NumbaTypeSafetyWarning: unsafe cast from int64 to uint16. Precision may be lost.\n",
            "  segmented_islands, island_hierarchy = mark_islands(truth_islands)  # segment and label the discontinuous regions, returns a island hierarchy dict.\n",
            "/usr/local/lib/python3.7/dist-packages/yogAssist/post.py:96: NumbaTypeSafetyWarning: unsafe cast from int64 to float32. Precision may be lost.\n",
            "  peaks, island_max = islands_max(heatmap, segmented_islands, sorted_island_hierarchy)  # get the maximum peak location (and value) for each island\n"
          ],
          "name": "stderr"
        }
      ]
    },
    {
      "cell_type": "code",
      "metadata": {
        "id": "FM0hQBOz2gi5",
        "colab": {
          "base_uri": "https://localhost:8080/",
          "height": 198
        },
        "outputId": "514fd239-35e9-4d72-b4e8-9a3d8ea1bdc5"
      },
      "source": [
        "import os\n",
        "\n",
        "n_images = 0\n",
        "folders = os.listdir('images')\n",
        "\n",
        "jpg = 0\n",
        "jpeg = 0\n",
        "png = 0\n",
        "extensions = {\"jpg\": 0, \"jpeg\": 0, \"png\": 0}\n",
        "for folder in folders:\n",
        "  if os.path.isdir(f'images/{folder}'):\n",
        "    for file in os.listdir(f'images/{folder}'):\n",
        "      filetype = file.split(\".\")[-1]\n",
        "      extensions[filetype] +=extensions.get(filetype,0)"
      ],
      "execution_count": null,
      "outputs": [
        {
          "output_type": "error",
          "ename": "KeyError",
          "evalue": "ignored",
          "traceback": [
            "\u001b[0;31m---------------------------------------------------------------------------\u001b[0m",
            "\u001b[0;31mKeyError\u001b[0m                                  Traceback (most recent call last)",
            "\u001b[0;32m<ipython-input-18-39759d0415a1>\u001b[0m in \u001b[0;36m<module>\u001b[0;34m()\u001b[0m\n\u001b[1;32m     12\u001b[0m     \u001b[0;32mfor\u001b[0m \u001b[0mfile\u001b[0m \u001b[0;32min\u001b[0m \u001b[0mos\u001b[0m\u001b[0;34m.\u001b[0m\u001b[0mlistdir\u001b[0m\u001b[0;34m(\u001b[0m\u001b[0;34mf'images/{folder}'\u001b[0m\u001b[0;34m)\u001b[0m\u001b[0;34m:\u001b[0m\u001b[0;34m\u001b[0m\u001b[0;34m\u001b[0m\u001b[0m\n\u001b[1;32m     13\u001b[0m       \u001b[0mfiletype\u001b[0m \u001b[0;34m=\u001b[0m \u001b[0mfile\u001b[0m\u001b[0;34m.\u001b[0m\u001b[0msplit\u001b[0m\u001b[0;34m(\u001b[0m\u001b[0;34m\".\"\u001b[0m\u001b[0;34m)\u001b[0m\u001b[0;34m[\u001b[0m\u001b[0;34m-\u001b[0m\u001b[0;36m1\u001b[0m\u001b[0;34m]\u001b[0m\u001b[0;34m\u001b[0m\u001b[0;34m\u001b[0m\u001b[0m\n\u001b[0;32m---> 14\u001b[0;31m       \u001b[0mextensions\u001b[0m\u001b[0;34m[\u001b[0m\u001b[0mfiletype\u001b[0m\u001b[0;34m]\u001b[0m \u001b[0;34m+=\u001b[0m\u001b[0mextensions\u001b[0m\u001b[0;34m.\u001b[0m\u001b[0mget\u001b[0m\u001b[0;34m(\u001b[0m\u001b[0mfiletype\u001b[0m\u001b[0;34m,\u001b[0m\u001b[0;36m0\u001b[0m\u001b[0;34m)\u001b[0m\u001b[0;34m\u001b[0m\u001b[0;34m\u001b[0m\u001b[0m\n\u001b[0m",
            "\u001b[0;31mKeyError\u001b[0m: 'jpg?w=590&amp;h=337'"
          ]
        }
      ]
    },
    {
      "cell_type": "code",
      "metadata": {
        "colab": {
          "base_uri": "https://localhost:8080/"
        },
        "id": "ghGEchEaIA-7",
        "outputId": "e159de99-22c1-4fa8-902b-5ccaf30e4a65"
      },
      "source": [
        "n_images"
      ],
      "execution_count": null,
      "outputs": [
        {
          "output_type": "execute_result",
          "data": {
            "text/plain": [
              "24088"
            ]
          },
          "metadata": {
            "tags": []
          },
          "execution_count": 17
        }
      ]
    },
    {
      "cell_type": "code",
      "metadata": {
        "id": "Cu_4204ZLAa5"
      },
      "source": [
        "import pandas as pd\n"
      ],
      "execution_count": null,
      "outputs": []
    },
    {
      "cell_type": "code",
      "metadata": {
        "id": "6mDC5FLQfnQY"
      },
      "source": [
        "df=pd.read_csv('keypoints_stat.txt')"
      ],
      "execution_count": null,
      "outputs": []
    },
    {
      "cell_type": "code",
      "metadata": {
        "id": "RQ9f2A61ftr3",
        "colab": {
          "base_uri": "https://localhost:8080/"
        },
        "outputId": "a111e494-f2b1-4da7-d8b3-3b61ed59b9c7"
      },
      "source": [
        "len(df)"
      ],
      "execution_count": null,
      "outputs": [
        {
          "output_type": "execute_result",
          "data": {
            "text/plain": [
              "23067"
            ]
          },
          "metadata": {
            "tags": []
          },
          "execution_count": 13
        }
      ]
    },
    {
      "cell_type": "code",
      "metadata": {
        "id": "qTQlqSdjfwiY"
      },
      "source": [
        ""
      ],
      "execution_count": null,
      "outputs": []
    }
  ]
}