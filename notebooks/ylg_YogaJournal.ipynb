{
 "cells": [
  {
   "cell_type": "code",
   "execution_count": 1,
   "id": "6e9bb2ef",
   "metadata": {
    "ExecuteTime": {
     "end_time": "2021-05-24T20:10:13.815678Z",
     "start_time": "2021-05-24T20:10:13.682408Z"
    }
   },
   "outputs": [],
   "source": [
    "import requests\n",
    "from bs4 import BeautifulSoup\n",
    "import json"
   ]
  },
  {
   "cell_type": "code",
   "execution_count": 2,
   "id": "b76639e9",
   "metadata": {
    "ExecuteTime": {
     "end_time": "2021-05-24T20:10:14.010523Z",
     "start_time": "2021-05-24T20:10:14.007696Z"
    }
   },
   "outputs": [],
   "source": [
    "def parse(url):\n",
    "    html = requests.get(url).text\n",
    "    soup = BeautifulSoup(html, \"html.parser\")\n",
    "    return soup"
   ]
  },
  {
   "cell_type": "code",
   "execution_count": 3,
   "id": "2cfc1647",
   "metadata": {
    "ExecuteTime": {
     "end_time": "2021-05-24T20:10:14.747162Z",
     "start_time": "2021-05-24T20:10:14.421347Z"
    }
   },
   "outputs": [],
   "source": [
    "start = \"https://www.yogajournal.com/poses/types/\"\n",
    "soup = parse(start)"
   ]
  },
  {
   "cell_type": "code",
   "execution_count": 4,
   "id": "94762ab8",
   "metadata": {
    "ExecuteTime": {
     "end_time": "2021-05-24T20:10:16.012675Z",
     "start_time": "2021-05-24T20:10:15.881746Z"
    }
   },
   "outputs": [
    {
     "ename": "TypeError",
     "evalue": "len() takes exactly one argument (0 given)",
     "output_type": "error",
     "traceback": [
      "\u001b[0;31m---------------------------------------------------------------------------\u001b[0m",
      "\u001b[0;31mTypeError\u001b[0m                                 Traceback (most recent call last)",
      "\u001b[0;32m<ipython-input-4-adf3103c7c3e>\u001b[0m in \u001b[0;36m<module>\u001b[0;34m\u001b[0m\n\u001b[0;32m----> 1\u001b[0;31m \u001b[0mlen\u001b[0m\u001b[0;34m(\u001b[0m\u001b[0;34m)\u001b[0m\u001b[0;34m\u001b[0m\u001b[0;34m\u001b[0m\u001b[0m\n\u001b[0m",
      "\u001b[0;31mTypeError\u001b[0m: len() takes exactly one argument (0 given)"
     ]
    }
   ],
   "source": [
    "len()"
   ]
  },
  {
   "cell_type": "code",
   "execution_count": 5,
   "id": "b7bf3e95",
   "metadata": {
    "ExecuteTime": {
     "end_time": "2021-05-24T20:10:16.473453Z",
     "start_time": "2021-05-24T20:10:16.460020Z"
    }
   },
   "outputs": [],
   "source": [
    "l_types = soup.find_all(class_=\"c-block-standard\")"
   ]
  },
  {
   "cell_type": "code",
   "execution_count": 6,
   "id": "c4bec332",
   "metadata": {
    "ExecuteTime": {
     "end_time": "2021-05-24T20:10:17.103483Z",
     "start_time": "2021-05-24T20:10:17.093795Z"
    }
   },
   "outputs": [
    {
     "data": {
      "text/plain": [
       "{'domain': '<<analytics_vars.domain>>',\n",
       " 'path': 'https://www.yogajournal.com/poses/types/arm-balances/',\n",
       " 'listing_type': 'category',\n",
       " 'location': 'taxonomy_reference',\n",
       " 'title': 'Arm Balance Yoga Poses'}"
      ]
     },
     "execution_count": 6,
     "metadata": {},
     "output_type": "execute_result"
    }
   ],
   "source": [
    "type_pose = l_types[0]\n",
    "json.loads(type_pose.find(class_='o-heading-link')\n",
    "           ['data-analytics-data'])['props']"
   ]
  },
  {
   "cell_type": "code",
   "execution_count": 131,
   "id": "7c46f741",
   "metadata": {
    "ExecuteTime": {
     "end_time": "2021-05-24T22:16:31.450144Z",
     "start_time": "2021-05-24T22:16:31.443665Z"
    }
   },
   "outputs": [],
   "source": [
    "def get_types(soup):\n",
    "    try:\n",
    "        l_single_pose = soup.find_all(class_=\"c-article-lead u-breakout\")\n",
    "        if len(l_single_pose) == 1:\n",
    "            sanskrit_name = soup.find(\"h3\",text = \"Sanskrit Name\")\n",
    "            sanskrit_name = sanskrit_name.next_sibling.next_sibling.text if sanskrit_name is not None else ''\n",
    "            return [(soup.find(class_=\"c-article-headings u-spacing u-center-block\").find(\"h1\").text,\n",
    "                     l_single_pose[0].find(class_=\"lazy\")[\"data-iesrc\"], \n",
    "                     l_single_pose[0].find(class_=\"lazy\")[\"data-iesrc\"],\n",
    "                     sanskrit_name)]\n",
    "\n",
    "        l_types = soup.find_all(\n",
    "            class_=\"c-block c-block-standard u-align--center c-block--inline-until-medium c-block--inline--mini\")\n",
    "        if len(l_types) == 0:\n",
    "            l_types = soup.find_all(\n",
    "                class_=\"c-block c-block-standard u-align--center c-block--inline-until-medium\")\n",
    "        l_allPose = []\n",
    "        for type_pose in l_types:\n",
    "            pose_picture = type_pose.find(\n",
    "                class_='o-heading-link')\n",
    "            dic_data = json.loads(pose_picture['data-analytics-data'])['props']\n",
    "            pose_picture_source = type_pose.find(\"source\")['srcset']\n",
    "            l_allPose.append((dic_data[\"title\"], \n",
    "                              dic_data[\"path\"], \n",
    "                              pose_picture_source,\n",
    "                             ''))\n",
    "        return l_allPose\n",
    "    except:\n",
    "        return None"
   ]
  },
  {
   "cell_type": "code",
   "execution_count": 132,
   "id": "43b0d02d",
   "metadata": {
    "ExecuteTime": {
     "end_time": "2021-05-24T22:16:31.935394Z",
     "start_time": "2021-05-24T22:16:31.920377Z"
    }
   },
   "outputs": [
    {
     "data": {
      "text/plain": [
       "[]"
      ]
     },
     "execution_count": 132,
     "metadata": {},
     "output_type": "execute_result"
    }
   ],
   "source": [
    "soup.find_all(class_=\"c-article-lead u-breakout\")"
   ]
  },
  {
   "cell_type": "code",
   "execution_count": 133,
   "id": "71106311",
   "metadata": {
    "ExecuteTime": {
     "end_time": "2021-05-24T22:19:19.769844Z",
     "start_time": "2021-05-24T22:16:32.567371Z"
    }
   },
   "outputs": [],
   "source": [
    "soup = parse(start)\n",
    "l_allPose = get_types(soup)\n",
    "all_pose = []\n",
    "while len(l_allPose) > 0:\n",
    "    pose_type = l_allPose.pop()\n",
    "    url = pose_type[1]\n",
    "    r = requests.get(url)\n",
    "    if r.url == 'https://www.yogajournal.com/poses/':\n",
    "        all_pose.append((pose_type[0],pose_type[0].split('|')[-1], pose_type[2],'',url))\n",
    "        continue\n",
    "    soup = BeautifulSoup(r.text, \"html.parser\")\n",
    "    l_sub_types = get_types(soup)\n",
    "    if l_sub_types is None:\n",
    "        continue\n",
    "    if len(l_sub_types) == 1:\n",
    "        all_pose.append((pose_type[0], l_sub_types[0][0], l_sub_types[0][1],l_sub_types[0][3],url))\n",
    "        continue\n",
    "    else:\n",
    "        if len(l_sub_types) == 1:\n",
    "            continue\n",
    "        for sub_type in l_sub_types:\n",
    "            l_allPose.append(\n",
    "                (pose_type[0] + '|' + sub_type[0], sub_type[1], sub_type[2],sub_type[3],url))"
   ]
  },
  {
   "cell_type": "code",
   "execution_count": 134,
   "id": "dd651bcb",
   "metadata": {
    "ExecuteTime": {
     "end_time": "2021-05-24T22:19:28.790665Z",
     "start_time": "2021-05-24T22:19:28.786169Z"
    }
   },
   "outputs": [
    {
     "data": {
      "text/plain": [
       "115"
      ]
     },
     "execution_count": 134,
     "metadata": {},
     "output_type": "execute_result"
    }
   ],
   "source": [
    "len(set([x[1] for x in all_pose]))"
   ]
  },
  {
   "cell_type": "code",
   "execution_count": 135,
   "id": "9af8a686",
   "metadata": {
    "ExecuteTime": {
     "end_time": "2021-05-24T22:19:30.509431Z",
     "start_time": "2021-05-24T22:19:30.504901Z"
    }
   },
   "outputs": [],
   "source": [
    "import pandas as pd\n",
    "pd.set_option('display.max_columns', None)\n",
    "pd.set_option('display.max_rows', None)\n",
    "\n",
    "df = pd.DataFrame(all_pose)\n",
    "df.columns = ['classif','pose_name','pose_url','sanskrit name','url2']"
   ]
  },
  {
   "cell_type": "code",
   "execution_count": 136,
   "id": "4edb0c09",
   "metadata": {
    "ExecuteTime": {
     "end_time": "2021-05-24T22:19:31.731363Z",
     "start_time": "2021-05-24T22:19:31.728061Z"
    }
   },
   "outputs": [],
   "source": [
    "\n",
    "pose_classif = {}\n",
    "for x in all_pose:\n",
    "    pose_classif[x[1]] = pose_classif.get(x[1], []) + [x[0]]"
   ]
  },
  {
   "cell_type": "code",
   "execution_count": 137,
   "id": "8eb6af15",
   "metadata": {
    "ExecuteTime": {
     "end_time": "2021-05-24T22:19:32.027399Z",
     "start_time": "2021-05-24T22:19:32.024331Z"
    }
   },
   "outputs": [],
   "source": [
    "pose_third = []\n",
    "for x in all_pose:\n",
    "    if x[1] != x[0].split('|')[-1]:\n",
    "        pose_third.append(x)"
   ]
  },
  {
   "cell_type": "code",
   "execution_count": 138,
   "id": "3fe07e74",
   "metadata": {
    "ExecuteTime": {
     "end_time": "2021-05-24T22:19:32.512827Z",
     "start_time": "2021-05-24T22:19:32.508257Z"
    }
   },
   "outputs": [
    {
     "data": {
      "text/plain": [
       "{2}"
      ]
     },
     "execution_count": 138,
     "metadata": {},
     "output_type": "execute_result"
    }
   ],
   "source": [
    "set([len(x[0].split('|')) for x in all_pose])"
   ]
  },
  {
   "cell_type": "code",
   "execution_count": 139,
   "id": "9c0a4df4",
   "metadata": {
    "ExecuteTime": {
     "end_time": "2021-05-24T22:19:33.124318Z",
     "start_time": "2021-05-24T22:19:33.118295Z"
    }
   },
   "outputs": [],
   "source": [
    "import csv\n",
    "with open('../data/yogaJournal.csv', 'w', encoding='UTF8', newline='') as f:\n",
    "    writer = csv.writer(f)\n",
    "    # write multiple rows\n",
    "    writer.writerows(all_pose)"
   ]
  },
  {
   "cell_type": "code",
   "execution_count": 140,
   "id": "0ee15818",
   "metadata": {
    "ExecuteTime": {
     "end_time": "2021-05-24T22:19:33.880048Z",
     "start_time": "2021-05-24T22:19:33.752723Z"
    }
   },
   "outputs": [
    {
     "name": "stdout",
     "output_type": "stream",
     "text": [
      "/Users/yassinelaghrari/code/ylg619/yogAssist/notebooks\r\n"
     ]
    }
   ],
   "source": [
    "!pwd"
   ]
  },
  {
   "cell_type": "code",
   "execution_count": 141,
   "id": "c11cd59d",
   "metadata": {
    "ExecuteTime": {
     "end_time": "2021-05-24T22:19:34.266035Z",
     "start_time": "2021-05-24T22:19:34.260275Z"
    }
   },
   "outputs": [],
   "source": [
    "import os\n",
    "import pandas as pd\n",
    "from os.path import isfile, dirname, join\n",
    "\n",
    "my_path = \"../raw_data/yoga_dataset_links\"\n",
    "\n",
    "from os import listdir\n",
    "from os.path import isfile, join\n",
    "onlyfiles = [f\"{f}\" for f in listdir(my_path) if isfile(join(my_path, f))]\n",
    "\n",
    "#df = pd.read_csv(onlyfiles[0], delimiter = \"\\t\", header=None)\n",
    "#df"
   ]
  },
  {
   "cell_type": "code",
   "execution_count": 142,
   "id": "d9cc63c5",
   "metadata": {
    "ExecuteTime": {
     "end_time": "2021-05-24T22:19:35.199398Z",
     "start_time": "2021-05-24T22:19:35.195748Z"
    }
   },
   "outputs": [],
   "source": [
    "dic_files = {}\n",
    "for x in onlyfiles:\n",
    "    poses = x.replace('.txt','')\n",
    "    poses = poses.replace('_', ' ')\n",
    "    poses = poses.split(' or ')\n",
    "    for pose in poses:\n",
    "        dic_files[pose.strip().lower().replace(' pose' ,'')] = x"
   ]
  },
  {
   "cell_type": "code",
   "execution_count": 143,
   "id": "ce73d1f8",
   "metadata": {
    "ExecuteTime": {
     "end_time": "2021-05-24T22:19:36.501231Z",
     "start_time": "2021-05-24T22:19:36.496701Z"
    }
   },
   "outputs": [],
   "source": [
    "def find_correspondant_filename(english_name,sanskrit_name):\n",
    "    english_name = english_name.strip().lower().replace(' pose' ,'')\n",
    "    sanskrit_name = sanskrit_name.strip().lower()\n",
    "    if english_name in dic_files:\n",
    "        return dic_files[english_name]\n",
    "    \n",
    "    if sanskrit_name != '' and sanskrit_name in dic_files:\n",
    "        return dic_files[sanskrit_name]\n",
    "    for key in dic_files.keys():\n",
    "        if sanskrit_name != '' and (key in sanskrit_name or sanskrit_name in key):\n",
    "            return dic_files[key]\n",
    "        if key in english_name or english_name in key:\n",
    "            return dic_files[key]\n",
    "        \n",
    "    \n",
    "    return ''"
   ]
  },
  {
   "cell_type": "code",
   "execution_count": 144,
   "id": "02cb7a00",
   "metadata": {
    "ExecuteTime": {
     "end_time": "2021-05-24T22:19:37.275001Z",
     "start_time": "2021-05-24T22:19:37.264622Z"
    }
   },
   "outputs": [],
   "source": [
    "df['file_link'] = df[['pose_name','sanskrit name']].apply(lambda x: find_correspondant_filename(dic_files,*x), axis=1)"
   ]
  },
  {
   "cell_type": "code",
   "execution_count": 145,
   "id": "8744d6f3",
   "metadata": {
    "ExecuteTime": {
     "end_time": "2021-05-24T22:19:37.763822Z",
     "start_time": "2021-05-24T22:19:37.742124Z"
    }
   },
   "outputs": [
    {
     "data": {
      "text/html": [
       "<div>\n",
       "<style scoped>\n",
       "    .dataframe tbody tr th:only-of-type {\n",
       "        vertical-align: middle;\n",
       "    }\n",
       "\n",
       "    .dataframe tbody tr th {\n",
       "        vertical-align: top;\n",
       "    }\n",
       "\n",
       "    .dataframe thead th {\n",
       "        text-align: right;\n",
       "    }\n",
       "</style>\n",
       "<table border=\"1\" class=\"dataframe\">\n",
       "  <thead>\n",
       "    <tr style=\"text-align: right;\">\n",
       "      <th></th>\n",
       "      <th>classif</th>\n",
       "      <th>pose_name</th>\n",
       "      <th>pose_url</th>\n",
       "      <th>sanskrit name</th>\n",
       "      <th>url2</th>\n",
       "      <th>file_link</th>\n",
       "    </tr>\n",
       "  </thead>\n",
       "  <tbody>\n",
       "    <tr>\n",
       "      <th>0</th>\n",
       "      <td>Yoga Mudras|Wheel of Dharma Seal</td>\n",
       "      <td>Wheel of Dharma Seal</td>\n",
       "      <td>https://www.yogajournal.com/wp-content/uploads...</td>\n",
       "      <td>Dharmachakra Mudra</td>\n",
       "      <td>https://www.yogajournal.com/poses/dharmachakra...</td>\n",
       "      <td></td>\n",
       "    </tr>\n",
       "    <tr>\n",
       "      <th>1</th>\n",
       "      <td>Yoga Mudras|Upright Seal</td>\n",
       "      <td>Upright Seal</td>\n",
       "      <td>https://www.yogajournal.com/wp-content/uploads...</td>\n",
       "      <td>Linga Mudra</td>\n",
       "      <td>https://www.yogajournal.com/poses/linga-mudra/</td>\n",
       "      <td></td>\n",
       "    </tr>\n",
       "    <tr>\n",
       "      <th>2</th>\n",
       "      <td>Yoga Mudras|Unshakeable Trust Seal</td>\n",
       "      <td>Unshakeable Trust Seal</td>\n",
       "      <td>https://www.yogajournal.com/wp-content/uploads...</td>\n",
       "      <td>Vajrapradama Mudra</td>\n",
       "      <td>https://www.yogajournal.com/poses/vajrapradama...</td>\n",
       "      <td></td>\n",
       "    </tr>\n",
       "    <tr>\n",
       "      <th>3</th>\n",
       "      <td>Yoga Mudras|Truth Seal</td>\n",
       "      <td>Truth Seal</td>\n",
       "      <td>https://www.yogajournal.com/wp-content/uploads...</td>\n",
       "      <td>Tattva Mudra</td>\n",
       "      <td>https://www.yogajournal.com/poses/tattva-mudra/</td>\n",
       "      <td></td>\n",
       "    </tr>\n",
       "    <tr>\n",
       "      <th>4</th>\n",
       "      <td>Yoga Mudras|Salutation Seal</td>\n",
       "      <td>Salutation Seal</td>\n",
       "      <td>https://www.yogajournal.com/wp-content/uploads...</td>\n",
       "      <td>Anjali Mudra</td>\n",
       "      <td>https://www.yogajournal.com/poses/salutation-s...</td>\n",
       "      <td></td>\n",
       "    </tr>\n",
       "    <tr>\n",
       "      <th>5</th>\n",
       "      <td>Yoga Mudras|Meditation Seal</td>\n",
       "      <td>Meditation Seal</td>\n",
       "      <td>https://www.yogajournal.com/wp-content/uploads...</td>\n",
       "      <td>Dhyana Mudra</td>\n",
       "      <td>https://www.yogajournal.com/poses/dhyana-mudra/</td>\n",
       "      <td></td>\n",
       "    </tr>\n",
       "    <tr>\n",
       "      <th>6</th>\n",
       "      <td>Yoga Mudras|Lotus Seal</td>\n",
       "      <td>Lotus Seal</td>\n",
       "      <td>https://www.yogajournal.com/wp-content/uploads...</td>\n",
       "      <td>Padma Mudra</td>\n",
       "      <td>https://www.yogajournal.com/poses/padma-mudra/</td>\n",
       "      <td></td>\n",
       "    </tr>\n",
       "    <tr>\n",
       "      <th>7</th>\n",
       "      <td>Yoga Mudras|Life Force Seal</td>\n",
       "      <td>Life Force Seal</td>\n",
       "      <td>https://www.yogajournal.com/wp-content/uploads...</td>\n",
       "      <td>Prana Mudra</td>\n",
       "      <td>https://www.yogajournal.com/poses/prana-mudra/</td>\n",
       "      <td></td>\n",
       "    </tr>\n",
       "    <tr>\n",
       "      <th>8</th>\n",
       "      <td>Yoga Mudras|Kali Mudra</td>\n",
       "      <td>Kali Mudra</td>\n",
       "      <td>https://www.yogajournal.com/wp-content/uploads...</td>\n",
       "      <td></td>\n",
       "      <td>https://www.yogajournal.com/poses/kali-mudra/</td>\n",
       "      <td></td>\n",
       "    </tr>\n",
       "    <tr>\n",
       "      <th>9</th>\n",
       "      <td>Yoga Mudras|Ganesha Mudra</td>\n",
       "      <td>Ganesha Mudra</td>\n",
       "      <td>https://www.yogajournal.com/wp-content/uploads...</td>\n",
       "      <td></td>\n",
       "      <td>https://www.yogajournal.com/poses/ganesha-mudra/</td>\n",
       "      <td></td>\n",
       "    </tr>\n",
       "    <tr>\n",
       "      <th>10</th>\n",
       "      <td>Yoga Mudras|Fearless Heart Seal</td>\n",
       "      <td>Fearless Heart Seal</td>\n",
       "      <td>https://www.yogajournal.com/wp-content/uploads...</td>\n",
       "      <td>Abhaya Hridaya Mudra</td>\n",
       "      <td>https://www.yogajournal.com/poses/abhaya-hrida...</td>\n",
       "      <td></td>\n",
       "    </tr>\n",
       "    <tr>\n",
       "      <th>12</th>\n",
       "      <td>Yoga Mudras|Deer Seal</td>\n",
       "      <td>Deer Seal</td>\n",
       "      <td>https://www.yogajournal.com/wp-content/uploads...</td>\n",
       "      <td>Mrigi Mudra</td>\n",
       "      <td>https://www.yogajournal.com/poses/deer-seal/</td>\n",
       "      <td></td>\n",
       "    </tr>\n",
       "    <tr>\n",
       "      <th>13</th>\n",
       "      <td>Yoga Mudras|Consciousness Seal</td>\n",
       "      <td>Consciousness Seal</td>\n",
       "      <td>https://www.yogajournal.com/wp-content/uploads...</td>\n",
       "      <td>Chin Mudra or Jnana Mudra</td>\n",
       "      <td>https://www.yogajournal.com/poses/chin-mudra/</td>\n",
       "      <td></td>\n",
       "    </tr>\n",
       "    <tr>\n",
       "      <th>14</th>\n",
       "      <td>Yoga Bandha|Upward Abdominal Lock</td>\n",
       "      <td>Upward Abdominal Lock</td>\n",
       "      <td>https://www.yogajournal.com/wp-content/uploads...</td>\n",
       "      <td>Uddiyana Bandha</td>\n",
       "      <td>https://www.yogajournal.com/poses/upward-abdom...</td>\n",
       "      <td></td>\n",
       "    </tr>\n",
       "    <tr>\n",
       "      <th>15</th>\n",
       "      <td>Yoga Bandha|Root Bond</td>\n",
       "      <td>Root Bond</td>\n",
       "      <td>https://www.yogajournal.com/wp-content/uploads...</td>\n",
       "      <td>Mula Bandha</td>\n",
       "      <td>https://www.yogajournal.com/poses/root-bond/</td>\n",
       "      <td></td>\n",
       "    </tr>\n",
       "    <tr>\n",
       "      <th>16</th>\n",
       "      <td>Yoga Bandha|Net-Bearer Bond</td>\n",
       "      <td>Net-Bearer Bond</td>\n",
       "      <td>https://www.yogajournal.com/wp-content/uploads...</td>\n",
       "      <td>Jalandhara Bandha</td>\n",
       "      <td>https://www.yogajournal.com/poses/net-bearer-b...</td>\n",
       "      <td></td>\n",
       "    </tr>\n",
       "    <tr>\n",
       "      <th>18</th>\n",
       "      <td>Yoga Backbends|Upward-Facing Dog Pose</td>\n",
       "      <td>Upward-Facing Dog Pose</td>\n",
       "      <td>https://www.yogajournal.com/wp-content/uploads...</td>\n",
       "      <td>Urdhva Mukha Svanasana</td>\n",
       "      <td>https://www.yogajournal.com/poses/upward-facin...</td>\n",
       "      <td></td>\n",
       "    </tr>\n",
       "    <tr>\n",
       "      <th>21</th>\n",
       "      <td>Yoga Backbends|Sphinx Pose</td>\n",
       "      <td>Sphinx Pose</td>\n",
       "      <td>https://www.yogajournal.com/wp-content/uploads...</td>\n",
       "      <td></td>\n",
       "      <td>https://www.yogajournal.com/poses/sphinx-pose/</td>\n",
       "      <td></td>\n",
       "    </tr>\n",
       "    <tr>\n",
       "      <th>39</th>\n",
       "      <td>Twist Yoga Poses|Marichi's Pose</td>\n",
       "      <td>Marichi's Pose</td>\n",
       "      <td>https://www.yogajournal.com/wp-content/uploads...</td>\n",
       "      <td>Marichyasana III</td>\n",
       "      <td>https://www.yogajournal.com/poses/marichi-s-pose/</td>\n",
       "      <td></td>\n",
       "    </tr>\n",
       "    <tr>\n",
       "      <th>65</th>\n",
       "      <td>Standing Yoga Poses|Upward Salute</td>\n",
       "      <td>Upward Salute</td>\n",
       "      <td>https://www.yogajournal.com/wp-content/uploads...</td>\n",
       "      <td>Urdhva Hastasana</td>\n",
       "      <td>https://www.yogajournal.com/poses/upward-salute/</td>\n",
       "      <td></td>\n",
       "    </tr>\n",
       "    <tr>\n",
       "      <th>70</th>\n",
       "      <td>Standing Yoga Poses|Mountain Pose</td>\n",
       "      <td>Mountain Pose</td>\n",
       "      <td>https://www.yogajournal.com/wp-content/uploads...</td>\n",
       "      <td>Tadasana</td>\n",
       "      <td>https://www.yogajournal.com/poses/mountain-pose/</td>\n",
       "      <td></td>\n",
       "    </tr>\n",
       "    <tr>\n",
       "      <th>74</th>\n",
       "      <td>Standing Yoga Poses|High Lunge, Crescent Varia...</td>\n",
       "      <td>High Lunge, Crescent Variation</td>\n",
       "      <td>https://www.yogajournal.com/wp-content/uploads...</td>\n",
       "      <td></td>\n",
       "      <td>https://www.yogajournal.com/poses/high-lunge-v...</td>\n",
       "      <td></td>\n",
       "    </tr>\n",
       "    <tr>\n",
       "      <th>75</th>\n",
       "      <td>Standing Yoga Poses|High Lunge</td>\n",
       "      <td>High Lunge</td>\n",
       "      <td>https://www.yogajournal.com/wp-content/uploads...</td>\n",
       "      <td></td>\n",
       "      <td>https://www.yogajournal.com/poses/high-lunge/</td>\n",
       "      <td></td>\n",
       "    </tr>\n",
       "    <tr>\n",
       "      <th>81</th>\n",
       "      <td>Standing Yoga Poses|Extended Hand-to-Big-Toe Pose</td>\n",
       "      <td>Extended Hand-to-Big-Toe Pose</td>\n",
       "      <td>https://www.yogajournal.com/wp-content/uploads...</td>\n",
       "      <td>Utthita Hasta Padangustasana</td>\n",
       "      <td>https://www.yogajournal.com/poses/extended-han...</td>\n",
       "      <td></td>\n",
       "    </tr>\n",
       "    <tr>\n",
       "      <th>90</th>\n",
       "      <td>Seated Yoga Poses|Pose Dedicated to the Sage M...</td>\n",
       "      <td>Pose Dedicated to the Sage Marichi I</td>\n",
       "      <td>https://www.yogajournal.com/wp-content/uploads...</td>\n",
       "      <td>Marichyasana I</td>\n",
       "      <td>https://www.yogajournal.com/poses/pose-dedicat...</td>\n",
       "      <td></td>\n",
       "    </tr>\n",
       "    <tr>\n",
       "      <th>91</th>\n",
       "      <td>Seated Yoga Poses|Monkey Pose</td>\n",
       "      <td>Monkey Pose</td>\n",
       "      <td>https://www.yogajournal.com/wp-content/uploads...</td>\n",
       "      <td>Hanumanasana</td>\n",
       "      <td>https://www.yogajournal.com/poses/monkey-pose/</td>\n",
       "      <td></td>\n",
       "    </tr>\n",
       "    <tr>\n",
       "      <th>92</th>\n",
       "      <td>Seated Yoga Poses|Marichi's Pose</td>\n",
       "      <td>Marichi's Pose</td>\n",
       "      <td>https://www.yogajournal.com/wp-content/uploads...</td>\n",
       "      <td>Marichyasana III</td>\n",
       "      <td>https://www.yogajournal.com/poses/marichi-s-pose/</td>\n",
       "      <td></td>\n",
       "    </tr>\n",
       "    <tr>\n",
       "      <th>93</th>\n",
       "      <td>Seated Yoga Poses|Lotus Pose</td>\n",
       "      <td>Lotus Pose</td>\n",
       "      <td>https://www.yogajournal.com/wp-content/uploads...</td>\n",
       "      <td>Padmasana</td>\n",
       "      <td>https://www.yogajournal.com/poses/types/seated...</td>\n",
       "      <td></td>\n",
       "    </tr>\n",
       "    <tr>\n",
       "      <th>98</th>\n",
       "      <td>Seated Yoga Poses|Fire Log Pose</td>\n",
       "      <td>Fire Log Pose</td>\n",
       "      <td>https://www.yogajournal.com/wp-content/uploads...</td>\n",
       "      <td>Agnistambhasana</td>\n",
       "      <td>https://www.yogajournal.com/poses/fire-log-pose/</td>\n",
       "      <td></td>\n",
       "    </tr>\n",
       "    <tr>\n",
       "      <th>99</th>\n",
       "      <td>Seated Yoga Poses|Easy Pose</td>\n",
       "      <td>Easy Pose</td>\n",
       "      <td>https://www.yogajournal.com/wp-content/uploads...</td>\n",
       "      <td>Sukhasana</td>\n",
       "      <td>https://www.yogajournal.com/poses/types/seated...</td>\n",
       "      <td></td>\n",
       "    </tr>\n",
       "    <tr>\n",
       "      <th>111</th>\n",
       "      <td>Pranayama Exercises &amp; Poses|Yoga of Sound Breath</td>\n",
       "      <td>Yoga of Sound Breath</td>\n",
       "      <td>https://www.yogajournal.com/wp-content/uploads...</td>\n",
       "      <td>Svara Yoga Pranayama</td>\n",
       "      <td>https://www.yogajournal.com/poses/types/pranay...</td>\n",
       "      <td></td>\n",
       "    </tr>\n",
       "    <tr>\n",
       "      <th>112</th>\n",
       "      <td>Pranayama Exercises &amp; Poses|Skull Shining Breath</td>\n",
       "      <td>Skull Shining Breath</td>\n",
       "      <td>https://www.yogajournal.com/wp-content/uploads...</td>\n",
       "      <td>Kapalabhati Pranayama</td>\n",
       "      <td>https://www.yogajournal.com/poses/types/pranay...</td>\n",
       "      <td></td>\n",
       "    </tr>\n",
       "    <tr>\n",
       "      <th>113</th>\n",
       "      <td>Pranayama Exercises &amp; Poses|Single Nostril Breath</td>\n",
       "      <td>Single Nostril Breath</td>\n",
       "      <td>https://www.yogajournal.com/wp-content/uploads...</td>\n",
       "      <td>Surya/Chandra Bhedana Pranayama</td>\n",
       "      <td>https://www.yogajournal.com/poses/types/pranay...</td>\n",
       "      <td></td>\n",
       "    </tr>\n",
       "    <tr>\n",
       "      <th>114</th>\n",
       "      <td>Pranayama Exercises &amp; Poses|Root Bond</td>\n",
       "      <td>Root Bond</td>\n",
       "      <td>https://www.yogajournal.com/wp-content/uploads...</td>\n",
       "      <td>Mula Bandha</td>\n",
       "      <td>https://www.yogajournal.com/poses/root-bond/</td>\n",
       "      <td></td>\n",
       "    </tr>\n",
       "    <tr>\n",
       "      <th>115</th>\n",
       "      <td>Pranayama Exercises &amp; Poses|Lion Pose</td>\n",
       "      <td>Lion Pose</td>\n",
       "      <td>https://www.yogajournal.com/wp-content/uploads...</td>\n",
       "      <td>Simhasana</td>\n",
       "      <td>https://www.yogajournal.com/poses/types/pranay...</td>\n",
       "      <td></td>\n",
       "    </tr>\n",
       "    <tr>\n",
       "      <th>116</th>\n",
       "      <td>Pranayama Exercises &amp; Poses|Deer Seal</td>\n",
       "      <td>Deer Seal</td>\n",
       "      <td>https://www.yogajournal.com/wp-content/uploads...</td>\n",
       "      <td>Mrigi Mudra</td>\n",
       "      <td>https://www.yogajournal.com/poses/deer-seal/</td>\n",
       "      <td></td>\n",
       "    </tr>\n",
       "    <tr>\n",
       "      <th>117</th>\n",
       "      <td>Pranayama Exercises &amp; Poses|Conqueror Breath</td>\n",
       "      <td>Conqueror Breath</td>\n",
       "      <td>https://www.yogajournal.com/wp-content/uploads...</td>\n",
       "      <td>Ujjayi Pranayama</td>\n",
       "      <td>https://www.yogajournal.com/poses/types/pranay...</td>\n",
       "      <td></td>\n",
       "    </tr>\n",
       "    <tr>\n",
       "      <th>118</th>\n",
       "      <td>Pranayama Exercises &amp; Poses|Channel-Cleaning B...</td>\n",
       "      <td>Channel-Cleaning Breath</td>\n",
       "      <td>https://www.yogajournal.com/wp-content/uploads...</td>\n",
       "      <td>Nadi Shodhana Pranayama</td>\n",
       "      <td>https://www.yogajournal.com/poses/types/pranay...</td>\n",
       "      <td></td>\n",
       "    </tr>\n",
       "    <tr>\n",
       "      <th>119</th>\n",
       "      <td>Pranayama Exercises &amp; Poses|Breath Retention</td>\n",
       "      <td>Breath Retention</td>\n",
       "      <td>https://www.yogajournal.com/wp-content/uploads...</td>\n",
       "      <td>Kumbhaka Pranayama</td>\n",
       "      <td>https://www.yogajournal.com/poses/types/pranay...</td>\n",
       "      <td></td>\n",
       "    </tr>\n",
       "    <tr>\n",
       "      <th>131</th>\n",
       "      <td>Hip-Opening Yoga Poses|Pose Dedicated to the S...</td>\n",
       "      <td>Pose Dedicated to the Sage Marichi I</td>\n",
       "      <td>https://www.yogajournal.com/wp-content/uploads...</td>\n",
       "      <td>Marichyasana I</td>\n",
       "      <td>https://www.yogajournal.com/poses/pose-dedicat...</td>\n",
       "      <td></td>\n",
       "    </tr>\n",
       "    <tr>\n",
       "      <th>134</th>\n",
       "      <td>Hip-Opening Yoga Poses|Marichi's Pose</td>\n",
       "      <td>Marichi's Pose</td>\n",
       "      <td>https://www.yogajournal.com/wp-content/uploads...</td>\n",
       "      <td>Marichyasana III</td>\n",
       "      <td>https://www.yogajournal.com/poses/marichi-s-pose/</td>\n",
       "      <td></td>\n",
       "    </tr>\n",
       "    <tr>\n",
       "      <th>136</th>\n",
       "      <td>Hip-Opening Yoga Poses|Fire Log Pose</td>\n",
       "      <td>Fire Log Pose</td>\n",
       "      <td>https://www.yogajournal.com/wp-content/uploads...</td>\n",
       "      <td>Agnistambhasana</td>\n",
       "      <td>https://www.yogajournal.com/poses/fire-log-pose/</td>\n",
       "      <td></td>\n",
       "    </tr>\n",
       "    <tr>\n",
       "      <th>137</th>\n",
       "      <td>Hip-Opening Yoga Poses|Extended Hand-to-Big-To...</td>\n",
       "      <td>Extended Hand-to-Big-Toe Pose</td>\n",
       "      <td>https://www.yogajournal.com/wp-content/uploads...</td>\n",
       "      <td>Utthita Hasta Padangustasana</td>\n",
       "      <td>https://www.yogajournal.com/poses/extended-han...</td>\n",
       "      <td></td>\n",
       "    </tr>\n",
       "    <tr>\n",
       "      <th>138</th>\n",
       "      <td>Hip-Opening Yoga Poses|Easy Pose</td>\n",
       "      <td>Easy Pose</td>\n",
       "      <td>https://www.yogajournal.com/wp-content/uploads...</td>\n",
       "      <td>Sukhasana</td>\n",
       "      <td>https://www.yogajournal.com/poses/types/seated...</td>\n",
       "      <td></td>\n",
       "    </tr>\n",
       "    <tr>\n",
       "      <th>150</th>\n",
       "      <td>Forward Bend Yoga Poses|Pose Dedicated to the ...</td>\n",
       "      <td>Pose Dedicated to the Sage Marichi I</td>\n",
       "      <td>https://www.yogajournal.com/wp-content/uploads...</td>\n",
       "      <td>Marichyasana I</td>\n",
       "      <td>https://www.yogajournal.com/poses/pose-dedicat...</td>\n",
       "      <td></td>\n",
       "    </tr>\n",
       "    <tr>\n",
       "      <th>172</th>\n",
       "      <td>Chest-Opening Yoga Poses|Upward-Facing Dog Pose</td>\n",
       "      <td>Upward-Facing Dog Pose</td>\n",
       "      <td>https://www.yogajournal.com/wp-content/uploads...</td>\n",
       "      <td>Urdhva Mukha Svanasana</td>\n",
       "      <td>https://www.yogajournal.com/poses/upward-facin...</td>\n",
       "      <td></td>\n",
       "    </tr>\n",
       "    <tr>\n",
       "      <th>175</th>\n",
       "      <td>Chest-Opening Yoga Poses|Sphinx Pose</td>\n",
       "      <td>Sphinx Pose</td>\n",
       "      <td>https://www.yogajournal.com/wp-content/uploads...</td>\n",
       "      <td></td>\n",
       "      <td>https://www.yogajournal.com/poses/sphinx-pose/</td>\n",
       "      <td></td>\n",
       "    </tr>\n",
       "    <tr>\n",
       "      <th>184</th>\n",
       "      <td>Binding Yoga Poses|Pose Dedicated to the Sage ...</td>\n",
       "      <td>Pose Dedicated to the Sage Marichi I</td>\n",
       "      <td>https://www.yogajournal.com/wp-content/uploads...</td>\n",
       "      <td>Marichyasana I</td>\n",
       "      <td>https://www.yogajournal.com/poses/pose-dedicat...</td>\n",
       "      <td></td>\n",
       "    </tr>\n",
       "    <tr>\n",
       "      <th>194</th>\n",
       "      <td>Balancing Yoga Poses|Extended Hand-to-Big-Toe ...</td>\n",
       "      <td>Extended Hand-to-Big-Toe Pose</td>\n",
       "      <td>https://www.yogajournal.com/wp-content/uploads...</td>\n",
       "      <td>Utthita Hasta Padangustasana</td>\n",
       "      <td>https://www.yogajournal.com/poses/extended-han...</td>\n",
       "      <td></td>\n",
       "    </tr>\n",
       "  </tbody>\n",
       "</table>\n",
       "</div>"
      ],
      "text/plain": [
       "                                               classif  \\\n",
       "0                     Yoga Mudras|Wheel of Dharma Seal   \n",
       "1                             Yoga Mudras|Upright Seal   \n",
       "2                   Yoga Mudras|Unshakeable Trust Seal   \n",
       "3                               Yoga Mudras|Truth Seal   \n",
       "4                          Yoga Mudras|Salutation Seal   \n",
       "5                          Yoga Mudras|Meditation Seal   \n",
       "6                               Yoga Mudras|Lotus Seal   \n",
       "7                          Yoga Mudras|Life Force Seal   \n",
       "8                               Yoga Mudras|Kali Mudra   \n",
       "9                            Yoga Mudras|Ganesha Mudra   \n",
       "10                     Yoga Mudras|Fearless Heart Seal   \n",
       "12                               Yoga Mudras|Deer Seal   \n",
       "13                      Yoga Mudras|Consciousness Seal   \n",
       "14                   Yoga Bandha|Upward Abdominal Lock   \n",
       "15                               Yoga Bandha|Root Bond   \n",
       "16                         Yoga Bandha|Net-Bearer Bond   \n",
       "18               Yoga Backbends|Upward-Facing Dog Pose   \n",
       "21                          Yoga Backbends|Sphinx Pose   \n",
       "39                     Twist Yoga Poses|Marichi's Pose   \n",
       "65                   Standing Yoga Poses|Upward Salute   \n",
       "70                   Standing Yoga Poses|Mountain Pose   \n",
       "74   Standing Yoga Poses|High Lunge, Crescent Varia...   \n",
       "75                      Standing Yoga Poses|High Lunge   \n",
       "81   Standing Yoga Poses|Extended Hand-to-Big-Toe Pose   \n",
       "90   Seated Yoga Poses|Pose Dedicated to the Sage M...   \n",
       "91                       Seated Yoga Poses|Monkey Pose   \n",
       "92                    Seated Yoga Poses|Marichi's Pose   \n",
       "93                        Seated Yoga Poses|Lotus Pose   \n",
       "98                     Seated Yoga Poses|Fire Log Pose   \n",
       "99                         Seated Yoga Poses|Easy Pose   \n",
       "111   Pranayama Exercises & Poses|Yoga of Sound Breath   \n",
       "112   Pranayama Exercises & Poses|Skull Shining Breath   \n",
       "113  Pranayama Exercises & Poses|Single Nostril Breath   \n",
       "114              Pranayama Exercises & Poses|Root Bond   \n",
       "115              Pranayama Exercises & Poses|Lion Pose   \n",
       "116              Pranayama Exercises & Poses|Deer Seal   \n",
       "117       Pranayama Exercises & Poses|Conqueror Breath   \n",
       "118  Pranayama Exercises & Poses|Channel-Cleaning B...   \n",
       "119       Pranayama Exercises & Poses|Breath Retention   \n",
       "131  Hip-Opening Yoga Poses|Pose Dedicated to the S...   \n",
       "134              Hip-Opening Yoga Poses|Marichi's Pose   \n",
       "136               Hip-Opening Yoga Poses|Fire Log Pose   \n",
       "137  Hip-Opening Yoga Poses|Extended Hand-to-Big-To...   \n",
       "138                   Hip-Opening Yoga Poses|Easy Pose   \n",
       "150  Forward Bend Yoga Poses|Pose Dedicated to the ...   \n",
       "172    Chest-Opening Yoga Poses|Upward-Facing Dog Pose   \n",
       "175               Chest-Opening Yoga Poses|Sphinx Pose   \n",
       "184  Binding Yoga Poses|Pose Dedicated to the Sage ...   \n",
       "194  Balancing Yoga Poses|Extended Hand-to-Big-Toe ...   \n",
       "\n",
       "                                pose_name  \\\n",
       "0                    Wheel of Dharma Seal   \n",
       "1                            Upright Seal   \n",
       "2                  Unshakeable Trust Seal   \n",
       "3                              Truth Seal   \n",
       "4                         Salutation Seal   \n",
       "5                         Meditation Seal   \n",
       "6                              Lotus Seal   \n",
       "7                         Life Force Seal   \n",
       "8                              Kali Mudra   \n",
       "9                           Ganesha Mudra   \n",
       "10                    Fearless Heart Seal   \n",
       "12                              Deer Seal   \n",
       "13                     Consciousness Seal   \n",
       "14                  Upward Abdominal Lock   \n",
       "15                              Root Bond   \n",
       "16                        Net-Bearer Bond   \n",
       "18                 Upward-Facing Dog Pose   \n",
       "21                            Sphinx Pose   \n",
       "39                         Marichi's Pose   \n",
       "65                          Upward Salute   \n",
       "70                          Mountain Pose   \n",
       "74         High Lunge, Crescent Variation   \n",
       "75                             High Lunge   \n",
       "81          Extended Hand-to-Big-Toe Pose   \n",
       "90   Pose Dedicated to the Sage Marichi I   \n",
       "91                            Monkey Pose   \n",
       "92                         Marichi's Pose   \n",
       "93                             Lotus Pose   \n",
       "98                          Fire Log Pose   \n",
       "99                              Easy Pose   \n",
       "111                  Yoga of Sound Breath   \n",
       "112                  Skull Shining Breath   \n",
       "113                 Single Nostril Breath   \n",
       "114                             Root Bond   \n",
       "115                             Lion Pose   \n",
       "116                             Deer Seal   \n",
       "117                      Conqueror Breath   \n",
       "118               Channel-Cleaning Breath   \n",
       "119                      Breath Retention   \n",
       "131  Pose Dedicated to the Sage Marichi I   \n",
       "134                        Marichi's Pose   \n",
       "136                         Fire Log Pose   \n",
       "137         Extended Hand-to-Big-Toe Pose   \n",
       "138                             Easy Pose   \n",
       "150  Pose Dedicated to the Sage Marichi I   \n",
       "172                Upward-Facing Dog Pose   \n",
       "175                           Sphinx Pose   \n",
       "184  Pose Dedicated to the Sage Marichi I   \n",
       "194         Extended Hand-to-Big-Toe Pose   \n",
       "\n",
       "                                              pose_url  \\\n",
       "0    https://www.yogajournal.com/wp-content/uploads...   \n",
       "1    https://www.yogajournal.com/wp-content/uploads...   \n",
       "2    https://www.yogajournal.com/wp-content/uploads...   \n",
       "3    https://www.yogajournal.com/wp-content/uploads...   \n",
       "4    https://www.yogajournal.com/wp-content/uploads...   \n",
       "5    https://www.yogajournal.com/wp-content/uploads...   \n",
       "6    https://www.yogajournal.com/wp-content/uploads...   \n",
       "7    https://www.yogajournal.com/wp-content/uploads...   \n",
       "8    https://www.yogajournal.com/wp-content/uploads...   \n",
       "9    https://www.yogajournal.com/wp-content/uploads...   \n",
       "10   https://www.yogajournal.com/wp-content/uploads...   \n",
       "12   https://www.yogajournal.com/wp-content/uploads...   \n",
       "13   https://www.yogajournal.com/wp-content/uploads...   \n",
       "14   https://www.yogajournal.com/wp-content/uploads...   \n",
       "15   https://www.yogajournal.com/wp-content/uploads...   \n",
       "16   https://www.yogajournal.com/wp-content/uploads...   \n",
       "18   https://www.yogajournal.com/wp-content/uploads...   \n",
       "21   https://www.yogajournal.com/wp-content/uploads...   \n",
       "39   https://www.yogajournal.com/wp-content/uploads...   \n",
       "65   https://www.yogajournal.com/wp-content/uploads...   \n",
       "70   https://www.yogajournal.com/wp-content/uploads...   \n",
       "74   https://www.yogajournal.com/wp-content/uploads...   \n",
       "75   https://www.yogajournal.com/wp-content/uploads...   \n",
       "81   https://www.yogajournal.com/wp-content/uploads...   \n",
       "90   https://www.yogajournal.com/wp-content/uploads...   \n",
       "91   https://www.yogajournal.com/wp-content/uploads...   \n",
       "92   https://www.yogajournal.com/wp-content/uploads...   \n",
       "93   https://www.yogajournal.com/wp-content/uploads...   \n",
       "98   https://www.yogajournal.com/wp-content/uploads...   \n",
       "99   https://www.yogajournal.com/wp-content/uploads...   \n",
       "111  https://www.yogajournal.com/wp-content/uploads...   \n",
       "112  https://www.yogajournal.com/wp-content/uploads...   \n",
       "113  https://www.yogajournal.com/wp-content/uploads...   \n",
       "114  https://www.yogajournal.com/wp-content/uploads...   \n",
       "115  https://www.yogajournal.com/wp-content/uploads...   \n",
       "116  https://www.yogajournal.com/wp-content/uploads...   \n",
       "117  https://www.yogajournal.com/wp-content/uploads...   \n",
       "118  https://www.yogajournal.com/wp-content/uploads...   \n",
       "119  https://www.yogajournal.com/wp-content/uploads...   \n",
       "131  https://www.yogajournal.com/wp-content/uploads...   \n",
       "134  https://www.yogajournal.com/wp-content/uploads...   \n",
       "136  https://www.yogajournal.com/wp-content/uploads...   \n",
       "137  https://www.yogajournal.com/wp-content/uploads...   \n",
       "138  https://www.yogajournal.com/wp-content/uploads...   \n",
       "150  https://www.yogajournal.com/wp-content/uploads...   \n",
       "172  https://www.yogajournal.com/wp-content/uploads...   \n",
       "175  https://www.yogajournal.com/wp-content/uploads...   \n",
       "184  https://www.yogajournal.com/wp-content/uploads...   \n",
       "194  https://www.yogajournal.com/wp-content/uploads...   \n",
       "\n",
       "                       sanskrit name  \\\n",
       "0                 Dharmachakra Mudra   \n",
       "1                        Linga Mudra   \n",
       "2                 Vajrapradama Mudra   \n",
       "3                       Tattva Mudra   \n",
       "4                       Anjali Mudra   \n",
       "5                       Dhyana Mudra   \n",
       "6                        Padma Mudra   \n",
       "7                        Prana Mudra   \n",
       "8                                      \n",
       "9                                      \n",
       "10              Abhaya Hridaya Mudra   \n",
       "12                       Mrigi Mudra   \n",
       "13         Chin Mudra or Jnana Mudra   \n",
       "14                   Uddiyana Bandha   \n",
       "15                       Mula Bandha   \n",
       "16                 Jalandhara Bandha   \n",
       "18            Urdhva Mukha Svanasana   \n",
       "21                                     \n",
       "39                  Marichyasana III   \n",
       "65                  Urdhva Hastasana   \n",
       "70                          Tadasana   \n",
       "74                                     \n",
       "75                                     \n",
       "81      Utthita Hasta Padangustasana   \n",
       "90                    Marichyasana I   \n",
       "91                      Hanumanasana   \n",
       "92                  Marichyasana III   \n",
       "93                         Padmasana   \n",
       "98                   Agnistambhasana   \n",
       "99                         Sukhasana   \n",
       "111             Svara Yoga Pranayama   \n",
       "112            Kapalabhati Pranayama   \n",
       "113  Surya/Chandra Bhedana Pranayama   \n",
       "114                      Mula Bandha   \n",
       "115                        Simhasana   \n",
       "116                      Mrigi Mudra   \n",
       "117                 Ujjayi Pranayama   \n",
       "118          Nadi Shodhana Pranayama   \n",
       "119               Kumbhaka Pranayama   \n",
       "131                   Marichyasana I   \n",
       "134                 Marichyasana III   \n",
       "136                  Agnistambhasana   \n",
       "137     Utthita Hasta Padangustasana   \n",
       "138                        Sukhasana   \n",
       "150                   Marichyasana I   \n",
       "172           Urdhva Mukha Svanasana   \n",
       "175                                    \n",
       "184                   Marichyasana I   \n",
       "194     Utthita Hasta Padangustasana   \n",
       "\n",
       "                                                  url2 file_link  \n",
       "0    https://www.yogajournal.com/poses/dharmachakra...            \n",
       "1       https://www.yogajournal.com/poses/linga-mudra/            \n",
       "2    https://www.yogajournal.com/poses/vajrapradama...            \n",
       "3      https://www.yogajournal.com/poses/tattva-mudra/            \n",
       "4    https://www.yogajournal.com/poses/salutation-s...            \n",
       "5      https://www.yogajournal.com/poses/dhyana-mudra/            \n",
       "6       https://www.yogajournal.com/poses/padma-mudra/            \n",
       "7       https://www.yogajournal.com/poses/prana-mudra/            \n",
       "8        https://www.yogajournal.com/poses/kali-mudra/            \n",
       "9     https://www.yogajournal.com/poses/ganesha-mudra/            \n",
       "10   https://www.yogajournal.com/poses/abhaya-hrida...            \n",
       "12        https://www.yogajournal.com/poses/deer-seal/            \n",
       "13       https://www.yogajournal.com/poses/chin-mudra/            \n",
       "14   https://www.yogajournal.com/poses/upward-abdom...            \n",
       "15        https://www.yogajournal.com/poses/root-bond/            \n",
       "16   https://www.yogajournal.com/poses/net-bearer-b...            \n",
       "18   https://www.yogajournal.com/poses/upward-facin...            \n",
       "21      https://www.yogajournal.com/poses/sphinx-pose/            \n",
       "39   https://www.yogajournal.com/poses/marichi-s-pose/            \n",
       "65    https://www.yogajournal.com/poses/upward-salute/            \n",
       "70    https://www.yogajournal.com/poses/mountain-pose/            \n",
       "74   https://www.yogajournal.com/poses/high-lunge-v...            \n",
       "75       https://www.yogajournal.com/poses/high-lunge/            \n",
       "81   https://www.yogajournal.com/poses/extended-han...            \n",
       "90   https://www.yogajournal.com/poses/pose-dedicat...            \n",
       "91      https://www.yogajournal.com/poses/monkey-pose/            \n",
       "92   https://www.yogajournal.com/poses/marichi-s-pose/            \n",
       "93   https://www.yogajournal.com/poses/types/seated...            \n",
       "98    https://www.yogajournal.com/poses/fire-log-pose/            \n",
       "99   https://www.yogajournal.com/poses/types/seated...            \n",
       "111  https://www.yogajournal.com/poses/types/pranay...            \n",
       "112  https://www.yogajournal.com/poses/types/pranay...            \n",
       "113  https://www.yogajournal.com/poses/types/pranay...            \n",
       "114       https://www.yogajournal.com/poses/root-bond/            \n",
       "115  https://www.yogajournal.com/poses/types/pranay...            \n",
       "116       https://www.yogajournal.com/poses/deer-seal/            \n",
       "117  https://www.yogajournal.com/poses/types/pranay...            \n",
       "118  https://www.yogajournal.com/poses/types/pranay...            \n",
       "119  https://www.yogajournal.com/poses/types/pranay...            \n",
       "131  https://www.yogajournal.com/poses/pose-dedicat...            \n",
       "134  https://www.yogajournal.com/poses/marichi-s-pose/            \n",
       "136   https://www.yogajournal.com/poses/fire-log-pose/            \n",
       "137  https://www.yogajournal.com/poses/extended-han...            \n",
       "138  https://www.yogajournal.com/poses/types/seated...            \n",
       "150  https://www.yogajournal.com/poses/pose-dedicat...            \n",
       "172  https://www.yogajournal.com/poses/upward-facin...            \n",
       "175     https://www.yogajournal.com/poses/sphinx-pose/            \n",
       "184  https://www.yogajournal.com/poses/pose-dedicat...            \n",
       "194  https://www.yogajournal.com/poses/extended-han...            "
      ]
     },
     "execution_count": 145,
     "metadata": {},
     "output_type": "execute_result"
    }
   ],
   "source": [
    "df[df['file_link']=='']"
   ]
  },
  {
   "cell_type": "code",
   "execution_count": 146,
   "id": "536f2b26",
   "metadata": {
    "ExecuteTime": {
     "end_time": "2021-05-24T22:19:39.710299Z",
     "start_time": "2021-05-24T22:19:39.705746Z"
    }
   },
   "outputs": [
    {
     "data": {
      "text/plain": [
       "'https://www.yogajournal.com/wp-content/uploads/2007/08/2compass-4.jpg?crop=535:301&width=1070&enable=upscale'"
      ]
     },
     "execution_count": 146,
     "metadata": {},
     "output_type": "execute_result"
    }
   ],
   "source": [
    "df.loc[91]['pose_url']"
   ]
  },
  {
   "cell_type": "code",
   "execution_count": 147,
   "id": "1b79cb02",
   "metadata": {
    "ExecuteTime": {
     "end_time": "2021-05-24T22:19:44.175826Z",
     "start_time": "2021-05-24T22:19:44.165117Z"
    }
   },
   "outputs": [],
   "source": [
    "dico_map = {\n",
    "    'Plank Pose – Step by Step Instructions' : 'Plank Pose',\n",
    "    'King Pigeon Pose' : 'Pigeon Pose',\n",
    "    'Cow Pose' : 'Cat Cow Pose',\n",
    "    \"One-Legged King Pigeon Pose II\" : 'Rajakapotasana',\n",
    "    'Half Frog Pose' : 'Frog Pose',\n",
    "    'Revolved Triangle Pose' : 'Extended Revolved Triangle',\n",
    "    'Pose Dedicated to the Sage Koundinya I' : 'Eka Pada Koundinyanasana I and II',\n",
    "    \"Bharadvaja's Twist\" : \"Bharadvaja's_Twist_pose\",\n",
    "    'Revolved Side Angle Pose' : 'utthita padangusthasana',\n",
    "    'Handstand or Downward Facing Tree Pose': 'Adho Mukha Vrksasana',\n",
    "    'Extended Hand-to-Big-Toe Pose' : 'Utthita Padangusthasana',\n",
    "    'Monkey Pose' : 'split pose',\n",
    "    'Lotus Pose':'Sitting pose 1 (normal)',\n",
    "    'High Lunge, Crescent Variation' : 'Virabhadrasana I'\n",
    "    \n",
    "    \n",
    "    \n",
    "}\n",
    "\n",
    "df['pose_name_rework'] = df['pose_name'].apply(lambda x: dico_map[x] if x in dico_map else x)\n",
    "df['file_link'] = df[['pose_name_rework','sanskrit name']].apply(lambda x: find_correspondant_filename(dic_files,*x), axis=1)"
   ]
  },
  {
   "cell_type": "code",
   "execution_count": 148,
   "id": "66cc1f29",
   "metadata": {
    "ExecuteTime": {
     "end_time": "2021-05-24T22:19:44.897544Z",
     "start_time": "2021-05-24T22:19:44.893703Z"
    }
   },
   "outputs": [],
   "source": [
    "found_pose = set(df[df['file_link']!='']['file_link'])\n",
    "\n",
    "existing_pose = set(dic_files.values())"
   ]
  },
  {
   "cell_type": "code",
   "execution_count": 149,
   "id": "1cab7fd8",
   "metadata": {
    "ExecuteTime": {
     "end_time": "2021-05-24T22:19:45.734364Z",
     "start_time": "2021-05-24T22:19:45.729609Z"
    }
   },
   "outputs": [
    {
     "data": {
      "text/plain": [
       "['Tortoise_Pose.txt',\n",
       " 'Supta_Virasana_Vajrasana.txt',\n",
       " 'Scorpion_pose_or_vrischikasana.txt',\n",
       " 'Upward_Plank_Pose_or_Purvottanasana_.txt',\n",
       " 'Wind_Relieving_pose_or_Pawanmuktasana.txt',\n",
       " 'viparita_virabhadrasana_or_reverse_warrior_pose.txt',\n",
       " 'Akarna_Dhanurasana.txt',\n",
       " 'Tree_Pose_or_Vrksasana_.txt',\n",
       " 'Cockerel_Pose.txt',\n",
       " 'Yogic_sleep_pose.txt',\n",
       " 'desktop.ini',\n",
       " 'Downward-Facing_Dog_pose_or_Adho_Mukha_Svanasana_.txt']"
      ]
     },
     "execution_count": 149,
     "metadata": {},
     "output_type": "execute_result"
    }
   ],
   "source": [
    "[x for x in existing_pose if x not in found_pose]"
   ]
  },
  {
   "cell_type": "code",
   "execution_count": 153,
   "id": "022d7d3e",
   "metadata": {
    "ExecuteTime": {
     "end_time": "2021-05-24T22:21:32.269297Z",
     "start_time": "2021-05-24T22:21:32.266265Z"
    }
   },
   "outputs": [],
   "source": [
    "manual_add = [['Scorpion_pose_or_vrischikasana.txt',\"https://www.yogajournal.com/wp-content/uploads/2012/10/e1.jpg?crop=535:301&width=1070&enable=upscale\"],\n",
    "['Upward_Plank_Pose_or_Purvottanasana_.txt', \"https://www.yogajournal.com/wp-content/uploads/2007/08/upward-plank-pose.jpg?crop=1:1&width=250&enable=upscale\"],\n",
    "['Supta_Virasana_Vajrasana.txt', \"https://www.yogajournal.com/wp-content/uploads/2008/06/cleanse_278_4_fnlreclining-hero-pose-supta-virasana.jpg?crop=535:301&width=1070&enable=upscale\"],\n",
    "['Tree_Pose_or_Vrksasana_.txt', \"https://www.yogajournal.com/wp-content/uploads/2020/12/ccd03542-1.jpg?crop=535:301&width=1070&enable=upscale\"],\n",
    " ['Downward-Facing_Dog_pose_or_Adho_Mukha_Svanasana_.txt',\"https://www.yogajournal.com/wp-content/uploads/2020/12/2hp_290_1721_bjk.jpg?crop=535:301&width=1070&enable=upscale\"],\n",
    " [\"Cockerel_Pose.txt\",\"https://www.yogajournal.com/wp-content/uploads/2018/06/ty-landrum-9.jpg?crop=535:301&width=1070&enable=upscale\"]]"
   ]
  },
  {
   "cell_type": "code",
   "execution_count": 155,
   "id": "b6cc6ccc",
   "metadata": {
    "ExecuteTime": {
     "end_time": "2021-05-24T22:21:59.225334Z",
     "start_time": "2021-05-24T22:21:59.221276Z"
    }
   },
   "outputs": [],
   "source": [
    "data_yoga_journal =df.loc[df['file_link']!='',['file_link','pose_url']].values.tolist() + manual_add"
   ]
  },
  {
   "cell_type": "code",
   "execution_count": 156,
   "id": "88a14822",
   "metadata": {
    "ExecuteTime": {
     "end_time": "2021-05-24T22:22:04.791786Z",
     "start_time": "2021-05-24T22:22:04.787609Z"
    }
   },
   "outputs": [
    {
     "data": {
      "text/plain": [
       "173"
      ]
     },
     "execution_count": 156,
     "metadata": {},
     "output_type": "execute_result"
    }
   ],
   "source": [
    "len(data_yoga_journal)\n"
   ]
  },
  {
   "cell_type": "code",
   "execution_count": 160,
   "id": "77998c98",
   "metadata": {
    "ExecuteTime": {
     "end_time": "2021-05-24T22:24:38.697878Z",
     "start_time": "2021-05-24T22:24:38.693037Z"
    }
   },
   "outputs": [
    {
     "data": {
      "text/plain": [
       "'../raw_data/yoga_journal_links/Eagle_Pose_or_Garudasana_.txt'"
      ]
     },
     "execution_count": 160,
     "metadata": {},
     "output_type": "execute_result"
    }
   ],
   "source": [
    "img = data_yoga_journal[0]\n",
    "os.path.join('../raw_data/yoga_journal_links',img[0])"
   ]
  },
  {
   "cell_type": "code",
   "execution_count": 164,
   "id": "a3949ece",
   "metadata": {
    "ExecuteTime": {
     "end_time": "2021-05-24T22:31:19.901981Z",
     "start_time": "2021-05-24T22:31:19.876361Z"
    }
   },
   "outputs": [],
   "source": [
    "i = 1\n",
    "for img in data_yoga_journal:\n",
    "    with open(os.path.join('../raw_data/yoga_journal_links',img[0]),'a') as fy:\n",
    "        fy.write(f'{img[0].replace(\".txt\",\"\")}/yogajournal_{i}.jpg\\t{img[1]}')\n",
    "    i+=1\n",
    "    "
   ]
  },
  {
   "cell_type": "code",
   "execution_count": null,
   "id": "6571426b",
   "metadata": {},
   "outputs": [],
   "source": []
  }
 ],
 "metadata": {
  "kernelspec": {
   "display_name": "Python 3",
   "language": "python",
   "name": "python3"
  },
  "language_info": {
   "codemirror_mode": {
    "name": "ipython",
    "version": 3
   },
   "file_extension": ".py",
   "mimetype": "text/x-python",
   "name": "python",
   "nbconvert_exporter": "python",
   "pygments_lexer": "ipython3",
   "version": "3.8.6"
  },
  "latex_envs": {
   "LaTeX_envs_menu_present": true,
   "autoclose": true,
   "autocomplete": true,
   "bibliofile": "biblio.bib",
   "cite_by": "apalike",
   "current_citInitial": 1,
   "eqLabelWithNumbers": true,
   "eqNumInitial": 1,
   "hotkeys": {
    "equation": "Ctrl-E",
    "itemize": "Ctrl-I"
   },
   "labels_anchors": false,
   "latex_user_defs": false,
   "report_style_numbering": false,
   "user_envs_cfg": false
  },
  "toc": {
   "base_numbering": 1,
   "nav_menu": {},
   "number_sections": true,
   "sideBar": true,
   "skip_h1_title": false,
   "title_cell": "Table of Contents",
   "title_sidebar": "Contents",
   "toc_cell": false,
   "toc_position": {},
   "toc_section_display": true,
   "toc_window_display": false
  },
  "varInspector": {
   "cols": {
    "lenName": 16,
    "lenType": 16,
    "lenVar": 40
   },
   "kernels_config": {
    "python": {
     "delete_cmd_postfix": "",
     "delete_cmd_prefix": "del ",
     "library": "var_list.py",
     "varRefreshCmd": "print(var_dic_list())"
    },
    "r": {
     "delete_cmd_postfix": ") ",
     "delete_cmd_prefix": "rm(",
     "library": "var_list.r",
     "varRefreshCmd": "cat(var_dic_list()) "
    }
   },
   "types_to_exclude": [
    "module",
    "function",
    "builtin_function_or_method",
    "instance",
    "_Feature"
   ],
   "window_display": false
  }
 },
 "nbformat": 4,
 "nbformat_minor": 5
}
